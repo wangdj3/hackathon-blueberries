{
 "cells": [
  {
   "attachments": {},
   "cell_type": "markdown",
   "metadata": {},
   "source": [
    "# Predictions with full dataset"
   ]
  },
  {
   "attachments": {},
   "cell_type": "markdown",
   "metadata": {},
   "source": [
    "This notebook uses ALL variables, ALL datapoints to make predictions."
   ]
  },
  {
   "attachments": {},
   "cell_type": "markdown",
   "metadata": {},
   "source": [
    "## Imports"
   ]
  },
  {
   "cell_type": "code",
   "execution_count": 79,
   "metadata": {},
   "outputs": [],
   "source": [
    "import pandas as pd\n",
    "import numpy as np\n",
    "import matplotlib.pyplot as plt\n",
    "# import seaborn as sns\n",
    "\n",
    "# from sklearn.preprocessing import StandardScaler\n",
    "from sklearn.model_selection import GridSearchCV, RandomizedSearchCV, train_test_split \n",
    "from sklearn.linear_model import LinearRegression\n",
    "from sklearn.neighbors import KNeighborsRegressor \n",
    "from sklearn.tree import DecisionTreeRegressor\n",
    "from sklearn.ensemble import BaggingRegressor, RandomForestRegressor, AdaBoostRegressor, GradientBoostingRegressor, \\\n",
    "                              VotingRegressor\n",
    "# from sklearn.pipeline import Pipeline\n",
    "# from sklearn.preprocessing import PolynomialFeatures, StandardScaler\n",
    "\n",
    "import xgboost as xg\n",
    "\n",
    "from pycaret.regression import *\n",
    "\n",
    "\n",
    "import pickle"
   ]
  },
  {
   "attachments": {},
   "cell_type": "markdown",
   "metadata": {},
   "source": [
    "## Read in data"
   ]
  },
  {
   "cell_type": "code",
   "execution_count": 80,
   "metadata": {},
   "outputs": [
    {
     "data": {
      "text/plain": [
       "(15289, 17)"
      ]
     },
     "execution_count": 80,
     "metadata": {},
     "output_type": "execute_result"
    }
   ],
   "source": [
    "train_df = pd.read_csv('../data/train.csv', index_col='id') #, skipinitialspace=True)\n",
    "train_df.shape"
   ]
  },
  {
   "cell_type": "code",
   "execution_count": 81,
   "metadata": {},
   "outputs": [
    {
     "data": {
      "text/html": [
       "<div>\n",
       "<style scoped>\n",
       "    .dataframe tbody tr th:only-of-type {\n",
       "        vertical-align: middle;\n",
       "    }\n",
       "\n",
       "    .dataframe tbody tr th {\n",
       "        vertical-align: top;\n",
       "    }\n",
       "\n",
       "    .dataframe thead th {\n",
       "        text-align: right;\n",
       "    }\n",
       "</style>\n",
       "<table border=\"1\" class=\"dataframe\">\n",
       "  <thead>\n",
       "    <tr style=\"text-align: right;\">\n",
       "      <th></th>\n",
       "      <th>clonesize</th>\n",
       "      <th>honeybee</th>\n",
       "      <th>bumbles</th>\n",
       "      <th>andrena</th>\n",
       "      <th>osmia</th>\n",
       "      <th>MaxOfUpperTRange</th>\n",
       "      <th>MinOfUpperTRange</th>\n",
       "      <th>AverageOfUpperTRange</th>\n",
       "      <th>MaxOfLowerTRange</th>\n",
       "      <th>MinOfLowerTRange</th>\n",
       "      <th>AverageOfLowerTRange</th>\n",
       "      <th>RainingDays</th>\n",
       "      <th>AverageRainingDays</th>\n",
       "      <th>fruitset</th>\n",
       "      <th>fruitmass</th>\n",
       "      <th>seeds</th>\n",
       "      <th>yield</th>\n",
       "    </tr>\n",
       "    <tr>\n",
       "      <th>id</th>\n",
       "      <th></th>\n",
       "      <th></th>\n",
       "      <th></th>\n",
       "      <th></th>\n",
       "      <th></th>\n",
       "      <th></th>\n",
       "      <th></th>\n",
       "      <th></th>\n",
       "      <th></th>\n",
       "      <th></th>\n",
       "      <th></th>\n",
       "      <th></th>\n",
       "      <th></th>\n",
       "      <th></th>\n",
       "      <th></th>\n",
       "      <th></th>\n",
       "      <th></th>\n",
       "    </tr>\n",
       "  </thead>\n",
       "  <tbody>\n",
       "    <tr>\n",
       "      <th>0</th>\n",
       "      <td>25.0</td>\n",
       "      <td>0.50</td>\n",
       "      <td>0.25</td>\n",
       "      <td>0.75</td>\n",
       "      <td>0.50</td>\n",
       "      <td>69.7</td>\n",
       "      <td>42.1</td>\n",
       "      <td>58.2</td>\n",
       "      <td>50.2</td>\n",
       "      <td>24.3</td>\n",
       "      <td>41.2</td>\n",
       "      <td>24.0</td>\n",
       "      <td>0.39</td>\n",
       "      <td>0.425011</td>\n",
       "      <td>0.417545</td>\n",
       "      <td>32.460887</td>\n",
       "      <td>4476.81146</td>\n",
       "    </tr>\n",
       "    <tr>\n",
       "      <th>1</th>\n",
       "      <td>25.0</td>\n",
       "      <td>0.50</td>\n",
       "      <td>0.25</td>\n",
       "      <td>0.50</td>\n",
       "      <td>0.50</td>\n",
       "      <td>69.7</td>\n",
       "      <td>42.1</td>\n",
       "      <td>58.2</td>\n",
       "      <td>50.2</td>\n",
       "      <td>24.3</td>\n",
       "      <td>41.2</td>\n",
       "      <td>24.0</td>\n",
       "      <td>0.39</td>\n",
       "      <td>0.444908</td>\n",
       "      <td>0.422051</td>\n",
       "      <td>33.858317</td>\n",
       "      <td>5548.12201</td>\n",
       "    </tr>\n",
       "    <tr>\n",
       "      <th>2</th>\n",
       "      <td>12.5</td>\n",
       "      <td>0.25</td>\n",
       "      <td>0.25</td>\n",
       "      <td>0.63</td>\n",
       "      <td>0.63</td>\n",
       "      <td>86.0</td>\n",
       "      <td>52.0</td>\n",
       "      <td>71.9</td>\n",
       "      <td>62.0</td>\n",
       "      <td>30.0</td>\n",
       "      <td>50.8</td>\n",
       "      <td>24.0</td>\n",
       "      <td>0.39</td>\n",
       "      <td>0.552927</td>\n",
       "      <td>0.470853</td>\n",
       "      <td>38.341781</td>\n",
       "      <td>6869.77760</td>\n",
       "    </tr>\n",
       "    <tr>\n",
       "      <th>3</th>\n",
       "      <td>12.5</td>\n",
       "      <td>0.25</td>\n",
       "      <td>0.25</td>\n",
       "      <td>0.63</td>\n",
       "      <td>0.50</td>\n",
       "      <td>77.4</td>\n",
       "      <td>46.8</td>\n",
       "      <td>64.7</td>\n",
       "      <td>55.8</td>\n",
       "      <td>27.0</td>\n",
       "      <td>45.8</td>\n",
       "      <td>24.0</td>\n",
       "      <td>0.39</td>\n",
       "      <td>0.565976</td>\n",
       "      <td>0.478137</td>\n",
       "      <td>39.467561</td>\n",
       "      <td>6880.77590</td>\n",
       "    </tr>\n",
       "    <tr>\n",
       "      <th>4</th>\n",
       "      <td>25.0</td>\n",
       "      <td>0.50</td>\n",
       "      <td>0.25</td>\n",
       "      <td>0.63</td>\n",
       "      <td>0.63</td>\n",
       "      <td>77.4</td>\n",
       "      <td>46.8</td>\n",
       "      <td>64.7</td>\n",
       "      <td>55.8</td>\n",
       "      <td>27.0</td>\n",
       "      <td>45.8</td>\n",
       "      <td>24.0</td>\n",
       "      <td>0.39</td>\n",
       "      <td>0.579677</td>\n",
       "      <td>0.494165</td>\n",
       "      <td>40.484512</td>\n",
       "      <td>7479.93417</td>\n",
       "    </tr>\n",
       "  </tbody>\n",
       "</table>\n",
       "</div>"
      ],
      "text/plain": [
       "    clonesize  honeybee  bumbles  andrena  osmia  MaxOfUpperTRange  \\\n",
       "id                                                                   \n",
       "0        25.0      0.50     0.25     0.75   0.50              69.7   \n",
       "1        25.0      0.50     0.25     0.50   0.50              69.7   \n",
       "2        12.5      0.25     0.25     0.63   0.63              86.0   \n",
       "3        12.5      0.25     0.25     0.63   0.50              77.4   \n",
       "4        25.0      0.50     0.25     0.63   0.63              77.4   \n",
       "\n",
       "    MinOfUpperTRange  AverageOfUpperTRange  MaxOfLowerTRange  \\\n",
       "id                                                             \n",
       "0               42.1                  58.2              50.2   \n",
       "1               42.1                  58.2              50.2   \n",
       "2               52.0                  71.9              62.0   \n",
       "3               46.8                  64.7              55.8   \n",
       "4               46.8                  64.7              55.8   \n",
       "\n",
       "    MinOfLowerTRange  AverageOfLowerTRange  RainingDays  AverageRainingDays  \\\n",
       "id                                                                            \n",
       "0               24.3                  41.2         24.0                0.39   \n",
       "1               24.3                  41.2         24.0                0.39   \n",
       "2               30.0                  50.8         24.0                0.39   \n",
       "3               27.0                  45.8         24.0                0.39   \n",
       "4               27.0                  45.8         24.0                0.39   \n",
       "\n",
       "    fruitset  fruitmass      seeds       yield  \n",
       "id                                              \n",
       "0   0.425011   0.417545  32.460887  4476.81146  \n",
       "1   0.444908   0.422051  33.858317  5548.12201  \n",
       "2   0.552927   0.470853  38.341781  6869.77760  \n",
       "3   0.565976   0.478137  39.467561  6880.77590  \n",
       "4   0.579677   0.494165  40.484512  7479.93417  "
      ]
     },
     "execution_count": 81,
     "metadata": {},
     "output_type": "execute_result"
    }
   ],
   "source": [
    "train_df.head()"
   ]
  },
  {
   "cell_type": "code",
   "execution_count": 82,
   "metadata": {},
   "outputs": [],
   "source": [
    "train_df.columns = train_df.columns.str.lower()"
   ]
  },
  {
   "cell_type": "code",
   "execution_count": 83,
   "metadata": {},
   "outputs": [
    {
     "data": {
      "text/plain": [
       "clonesize               float64\n",
       "honeybee                float64\n",
       "bumbles                 float64\n",
       "andrena                 float64\n",
       "osmia                   float64\n",
       "maxofuppertrange        float64\n",
       "minofuppertrange        float64\n",
       "averageofuppertrange    float64\n",
       "maxoflowertrange        float64\n",
       "minoflowertrange        float64\n",
       "averageoflowertrange    float64\n",
       "rainingdays             float64\n",
       "averagerainingdays      float64\n",
       "fruitset                float64\n",
       "fruitmass               float64\n",
       "seeds                   float64\n",
       "yield                   float64\n",
       "dtype: object"
      ]
     },
     "execution_count": 83,
     "metadata": {},
     "output_type": "execute_result"
    }
   ],
   "source": [
    "train_df.dtypes"
   ]
  },
  {
   "cell_type": "code",
   "execution_count": 84,
   "metadata": {},
   "outputs": [
    {
     "data": {
      "text/plain": [
       "(10194, 16)"
      ]
     },
     "execution_count": 84,
     "metadata": {},
     "output_type": "execute_result"
    }
   ],
   "source": [
    "test_df = pd.read_csv('../data/test.csv', index_col='id')\n",
    "test_df.columns = test_df.columns.str.lower()\n",
    "test_df.shape"
   ]
  },
  {
   "attachments": {},
   "cell_type": "markdown",
   "metadata": {},
   "source": [
    "___"
   ]
  },
  {
   "attachments": {},
   "cell_type": "markdown",
   "metadata": {},
   "source": [
    "## Feature Exploration / EDA"
   ]
  },
  {
   "cell_type": "code",
   "execution_count": 85,
   "metadata": {},
   "outputs": [
    {
     "data": {
      "text/html": [
       "<div>\n",
       "<style scoped>\n",
       "    .dataframe tbody tr th:only-of-type {\n",
       "        vertical-align: middle;\n",
       "    }\n",
       "\n",
       "    .dataframe tbody tr th {\n",
       "        vertical-align: top;\n",
       "    }\n",
       "\n",
       "    .dataframe thead th {\n",
       "        text-align: right;\n",
       "    }\n",
       "</style>\n",
       "<table border=\"1\" class=\"dataframe\">\n",
       "  <thead>\n",
       "    <tr style=\"text-align: right;\">\n",
       "      <th></th>\n",
       "      <th>clonesize</th>\n",
       "      <th>honeybee</th>\n",
       "      <th>bumbles</th>\n",
       "      <th>andrena</th>\n",
       "      <th>osmia</th>\n",
       "      <th>maxofuppertrange</th>\n",
       "      <th>minofuppertrange</th>\n",
       "      <th>averageofuppertrange</th>\n",
       "      <th>maxoflowertrange</th>\n",
       "      <th>minoflowertrange</th>\n",
       "      <th>averageoflowertrange</th>\n",
       "      <th>rainingdays</th>\n",
       "      <th>averagerainingdays</th>\n",
       "      <th>fruitset</th>\n",
       "      <th>fruitmass</th>\n",
       "      <th>seeds</th>\n",
       "      <th>yield</th>\n",
       "    </tr>\n",
       "    <tr>\n",
       "      <th>id</th>\n",
       "      <th></th>\n",
       "      <th></th>\n",
       "      <th></th>\n",
       "      <th></th>\n",
       "      <th></th>\n",
       "      <th></th>\n",
       "      <th></th>\n",
       "      <th></th>\n",
       "      <th></th>\n",
       "      <th></th>\n",
       "      <th></th>\n",
       "      <th></th>\n",
       "      <th></th>\n",
       "      <th></th>\n",
       "      <th></th>\n",
       "      <th></th>\n",
       "      <th></th>\n",
       "    </tr>\n",
       "  </thead>\n",
       "  <tbody>\n",
       "    <tr>\n",
       "      <th>0</th>\n",
       "      <td>25.0</td>\n",
       "      <td>0.50</td>\n",
       "      <td>0.25</td>\n",
       "      <td>0.75</td>\n",
       "      <td>0.50</td>\n",
       "      <td>69.7</td>\n",
       "      <td>42.1</td>\n",
       "      <td>58.2</td>\n",
       "      <td>50.2</td>\n",
       "      <td>24.3</td>\n",
       "      <td>41.2</td>\n",
       "      <td>24.0</td>\n",
       "      <td>0.39</td>\n",
       "      <td>0.425011</td>\n",
       "      <td>0.417545</td>\n",
       "      <td>32.460887</td>\n",
       "      <td>4476.81146</td>\n",
       "    </tr>\n",
       "    <tr>\n",
       "      <th>1</th>\n",
       "      <td>25.0</td>\n",
       "      <td>0.50</td>\n",
       "      <td>0.25</td>\n",
       "      <td>0.50</td>\n",
       "      <td>0.50</td>\n",
       "      <td>69.7</td>\n",
       "      <td>42.1</td>\n",
       "      <td>58.2</td>\n",
       "      <td>50.2</td>\n",
       "      <td>24.3</td>\n",
       "      <td>41.2</td>\n",
       "      <td>24.0</td>\n",
       "      <td>0.39</td>\n",
       "      <td>0.444908</td>\n",
       "      <td>0.422051</td>\n",
       "      <td>33.858317</td>\n",
       "      <td>5548.12201</td>\n",
       "    </tr>\n",
       "    <tr>\n",
       "      <th>2</th>\n",
       "      <td>12.5</td>\n",
       "      <td>0.25</td>\n",
       "      <td>0.25</td>\n",
       "      <td>0.63</td>\n",
       "      <td>0.63</td>\n",
       "      <td>86.0</td>\n",
       "      <td>52.0</td>\n",
       "      <td>71.9</td>\n",
       "      <td>62.0</td>\n",
       "      <td>30.0</td>\n",
       "      <td>50.8</td>\n",
       "      <td>24.0</td>\n",
       "      <td>0.39</td>\n",
       "      <td>0.552927</td>\n",
       "      <td>0.470853</td>\n",
       "      <td>38.341781</td>\n",
       "      <td>6869.77760</td>\n",
       "    </tr>\n",
       "    <tr>\n",
       "      <th>3</th>\n",
       "      <td>12.5</td>\n",
       "      <td>0.25</td>\n",
       "      <td>0.25</td>\n",
       "      <td>0.63</td>\n",
       "      <td>0.50</td>\n",
       "      <td>77.4</td>\n",
       "      <td>46.8</td>\n",
       "      <td>64.7</td>\n",
       "      <td>55.8</td>\n",
       "      <td>27.0</td>\n",
       "      <td>45.8</td>\n",
       "      <td>24.0</td>\n",
       "      <td>0.39</td>\n",
       "      <td>0.565976</td>\n",
       "      <td>0.478137</td>\n",
       "      <td>39.467561</td>\n",
       "      <td>6880.77590</td>\n",
       "    </tr>\n",
       "    <tr>\n",
       "      <th>4</th>\n",
       "      <td>25.0</td>\n",
       "      <td>0.50</td>\n",
       "      <td>0.25</td>\n",
       "      <td>0.63</td>\n",
       "      <td>0.63</td>\n",
       "      <td>77.4</td>\n",
       "      <td>46.8</td>\n",
       "      <td>64.7</td>\n",
       "      <td>55.8</td>\n",
       "      <td>27.0</td>\n",
       "      <td>45.8</td>\n",
       "      <td>24.0</td>\n",
       "      <td>0.39</td>\n",
       "      <td>0.579677</td>\n",
       "      <td>0.494165</td>\n",
       "      <td>40.484512</td>\n",
       "      <td>7479.93417</td>\n",
       "    </tr>\n",
       "  </tbody>\n",
       "</table>\n",
       "</div>"
      ],
      "text/plain": [
       "    clonesize  honeybee  bumbles  andrena  osmia  maxofuppertrange  \\\n",
       "id                                                                   \n",
       "0        25.0      0.50     0.25     0.75   0.50              69.7   \n",
       "1        25.0      0.50     0.25     0.50   0.50              69.7   \n",
       "2        12.5      0.25     0.25     0.63   0.63              86.0   \n",
       "3        12.5      0.25     0.25     0.63   0.50              77.4   \n",
       "4        25.0      0.50     0.25     0.63   0.63              77.4   \n",
       "\n",
       "    minofuppertrange  averageofuppertrange  maxoflowertrange  \\\n",
       "id                                                             \n",
       "0               42.1                  58.2              50.2   \n",
       "1               42.1                  58.2              50.2   \n",
       "2               52.0                  71.9              62.0   \n",
       "3               46.8                  64.7              55.8   \n",
       "4               46.8                  64.7              55.8   \n",
       "\n",
       "    minoflowertrange  averageoflowertrange  rainingdays  averagerainingdays  \\\n",
       "id                                                                            \n",
       "0               24.3                  41.2         24.0                0.39   \n",
       "1               24.3                  41.2         24.0                0.39   \n",
       "2               30.0                  50.8         24.0                0.39   \n",
       "3               27.0                  45.8         24.0                0.39   \n",
       "4               27.0                  45.8         24.0                0.39   \n",
       "\n",
       "    fruitset  fruitmass      seeds       yield  \n",
       "id                                              \n",
       "0   0.425011   0.417545  32.460887  4476.81146  \n",
       "1   0.444908   0.422051  33.858317  5548.12201  \n",
       "2   0.552927   0.470853  38.341781  6869.77760  \n",
       "3   0.565976   0.478137  39.467561  6880.77590  \n",
       "4   0.579677   0.494165  40.484512  7479.93417  "
      ]
     },
     "execution_count": 85,
     "metadata": {},
     "output_type": "execute_result"
    }
   ],
   "source": [
    "train_df.head()"
   ]
  },
  {
   "cell_type": "code",
   "execution_count": 86,
   "metadata": {},
   "outputs": [
    {
     "data": {
      "text/plain": [
       "clonesize               0\n",
       "honeybee                0\n",
       "bumbles                 0\n",
       "andrena                 0\n",
       "osmia                   0\n",
       "maxofuppertrange        0\n",
       "minofuppertrange        0\n",
       "averageofuppertrange    0\n",
       "maxoflowertrange        0\n",
       "minoflowertrange        0\n",
       "averageoflowertrange    0\n",
       "rainingdays             0\n",
       "averagerainingdays      0\n",
       "fruitset                0\n",
       "fruitmass               0\n",
       "seeds                   0\n",
       "yield                   0\n",
       "dtype: int64"
      ]
     },
     "execution_count": 86,
     "metadata": {},
     "output_type": "execute_result"
    }
   ],
   "source": [
    "train_df.isna().sum()"
   ]
  },
  {
   "attachments": {},
   "cell_type": "markdown",
   "metadata": {},
   "source": [
    "#### clonesize"
   ]
  },
  {
   "cell_type": "code",
   "execution_count": 87,
   "metadata": {},
   "outputs": [
    {
     "data": {
      "image/png": "[encoded data removed]",
      "text/plain": [
       "<Figure size 800x300 with 1 Axes>"
      ]
     },
     "metadata": {},
     "output_type": "display_data"
    }
   ],
   "source": [
    "#histogram for general distribution visualization\n",
    "plt.figure(figsize=(8,3))\n",
    "plt.hist(train_df.clonesize, bins=20)\n",
    "plt.title(\"Histogram of 'clonesize'\");"
   ]
  },
  {
   "cell_type": "code",
   "execution_count": 88,
   "metadata": {},
   "outputs": [
    {
     "data": {
      "text/plain": [
       "25.0    8245\n",
       "12.5    6717\n",
       "37.5     265\n",
       "20.0      56\n",
       "10.0       4\n",
       "40.0       2\n",
       "Name: clonesize, dtype: int64"
      ]
     },
     "execution_count": 88,
     "metadata": {},
     "output_type": "execute_result"
    }
   ],
   "source": [
    "#value counts for outlier identification\n",
    "train_df.clonesize.value_counts()"
   ]
  },
  {
   "attachments": {},
   "cell_type": "markdown",
   "metadata": {},
   "source": [
    "#### honeybee"
   ]
  },
  {
   "cell_type": "code",
   "execution_count": 89,
   "metadata": {},
   "outputs": [
    {
     "data": {
      "image/png": "[encoded data removed]",
      "text/plain": [
       "<Figure size 800x300 with 1 Axes>"
      ]
     },
     "metadata": {},
     "output_type": "display_data"
    }
   ],
   "source": [
    "plt.figure(figsize=(8,3))\n",
    "plt.hist(train_df.honeybee, bins=20)\n",
    "plt.title(\"Histogram of 'honeybee'\");"
   ]
  },
  {
   "cell_type": "code",
   "execution_count": 90,
   "metadata": {},
   "outputs": [
    {
     "data": {
      "text/plain": [
       "0.500     7832\n",
       "0.250     7285\n",
       "0.750      110\n",
       "0.537       38\n",
       "0.000       16\n",
       "18.430       5\n",
       "6.640        3\n",
       "Name: honeybee, dtype: int64"
      ]
     },
     "execution_count": 90,
     "metadata": {},
     "output_type": "execute_result"
    }
   ],
   "source": [
    "train_df.honeybee.value_counts()"
   ]
  },
  {
   "attachments": {},
   "cell_type": "markdown",
   "metadata": {},
   "source": [
    "#### fruitset"
   ]
  },
  {
   "cell_type": "code",
   "execution_count": 91,
   "metadata": {},
   "outputs": [
    {
     "data": {
      "image/png": "[encoded data removed]",
      "text/plain": [
       "<Figure size 800x300 with 1 Axes>"
      ]
     },
     "metadata": {},
     "output_type": "display_data"
    }
   ],
   "source": [
    "plt.figure(figsize=(8,3))\n",
    "plt.hist(train_df.fruitset, bins=20)\n",
    "plt.title(\"Histogram of 'fruitset'\");"
   ]
  },
  {
   "cell_type": "code",
   "execution_count": 92,
   "metadata": {},
   "outputs": [
    {
     "data": {
      "text/plain": [
       "0.583379    96\n",
       "0.566319    81\n",
       "0.534252    63\n",
       "0.542170    60\n",
       "0.481801    59\n",
       "            ..\n",
       "0.579622     1\n",
       "0.456317     1\n",
       "0.371190     1\n",
       "0.434480     1\n",
       "0.572099     1\n",
       "Name: fruitset, Length: 1526, dtype: int64"
      ]
     },
     "execution_count": 92,
     "metadata": {},
     "output_type": "execute_result"
    }
   ],
   "source": [
    "train_df.fruitset.value_counts()"
   ]
  },
  {
   "attachments": {},
   "cell_type": "markdown",
   "metadata": {},
   "source": [
    "#### seeds"
   ]
  },
  {
   "cell_type": "code",
   "execution_count": 93,
   "metadata": {},
   "outputs": [
    {
     "data": {
      "image/png": "[encoded data removed]",
      "text/plain": [
       "<Figure size 800x300 with 1 Axes>"
      ]
     },
     "metadata": {},
     "output_type": "display_data"
    }
   ],
   "source": [
    "plt.figure(figsize=(8,3))\n",
    "plt.hist(train_df.seeds, bins=20)\n",
    "plt.title(\"Histogram of 'seeds'\");"
   ]
  },
  {
   "cell_type": "code",
   "execution_count": 94,
   "metadata": {},
   "outputs": [
    {
     "data": {
      "text/plain": [
       "39.988734    96\n",
       "37.966864    80\n",
       "31.928816    71\n",
       "36.976361    69\n",
       "35.923314    61\n",
       "             ..\n",
       "43.081269     1\n",
       "37.734534     1\n",
       "41.843107     1\n",
       "40.841356     1\n",
       "27.873908     1\n",
       "Name: seeds, Length: 2066, dtype: int64"
      ]
     },
     "execution_count": 94,
     "metadata": {},
     "output_type": "execute_result"
    }
   ],
   "source": [
    "train_df.seeds.value_counts()"
   ]
  },
  {
   "attachments": {},
   "cell_type": "markdown",
   "metadata": {},
   "source": [
    "#### rainingdays"
   ]
  },
  {
   "cell_type": "code",
   "execution_count": 95,
   "metadata": {},
   "outputs": [
    {
     "data": {
      "image/png": "[encoded data removed]",
      "text/plain": [
       "<Figure size 800x300 with 1 Axes>"
      ]
     },
     "metadata": {},
     "output_type": "display_data"
    }
   ],
   "source": [
    "plt.figure(figsize=(8,3))\n",
    "plt.hist(train_df.rainingdays, bins=20)\n",
    "plt.title(\"Histogram of 'rainingdays'\");"
   ]
  },
  {
   "cell_type": "code",
   "execution_count": 96,
   "metadata": {},
   "outputs": [
    {
     "data": {
      "text/plain": [
       "16.00    4361\n",
       "24.00    3837\n",
       "34.00    3521\n",
       "1.00     3521\n",
       "3.77       48\n",
       "26.00       1\n",
       "Name: rainingdays, dtype: int64"
      ]
     },
     "execution_count": 96,
     "metadata": {},
     "output_type": "execute_result"
    }
   ],
   "source": [
    "train_df.rainingdays.value_counts()"
   ]
  },
  {
   "attachments": {},
   "cell_type": "markdown",
   "metadata": {},
   "source": [
    "___"
   ]
  },
  {
   "attachments": {},
   "cell_type": "markdown",
   "metadata": {},
   "source": [
    "## Feature Engineering ? Drop cols?"
   ]
  },
  {
   "cell_type": "code",
   "execution_count": 97,
   "metadata": {},
   "outputs": [
    {
     "data": {
      "text/plain": [
       "Index(['clonesize', 'honeybee', 'bumbles', 'andrena', 'osmia',\n",
       "       'maxofuppertrange', 'minofuppertrange', 'averageofuppertrange',\n",
       "       'maxoflowertrange', 'minoflowertrange', 'averageoflowertrange',\n",
       "       'rainingdays', 'averagerainingdays', 'fruitset', 'fruitmass', 'seeds',\n",
       "       'yield'],\n",
       "      dtype='object')"
      ]
     },
     "execution_count": 97,
     "metadata": {},
     "output_type": "execute_result"
    }
   ],
   "source": [
    "train_df.columns"
   ]
  },
  {
   "cell_type": "code",
   "execution_count": 98,
   "metadata": {},
   "outputs": [],
   "source": [
    "cols_to_drop = ['clonesize'\n",
    "                , 'honeybee'\n",
    "                , 'bumbles'\n",
    "                , 'andrena'\n",
    "                , 'osmia'\n",
    "                , 'maxofuppertrange'\n",
    "                , 'minofuppertrange'\n",
    "                , 'averageofuppertrange'\n",
    "                , 'maxoflowertrange'\n",
    "                , 'minoflowertrange'\n",
    "                , 'averageoflowertrange'\n",
    "                # , 'rainingdays'\n",
    "                , 'averagerainingdays'\n",
    "                # , 'fruitset'\n",
    "                , 'fruitmass'\n",
    "                # , 'seeds'\n",
    "                ]"
   ]
  },
  {
   "cell_type": "code",
   "execution_count": 99,
   "metadata": {},
   "outputs": [
    {
     "data": {
      "text/html": [
       "<div>\n",
       "<style scoped>\n",
       "    .dataframe tbody tr th:only-of-type {\n",
       "        vertical-align: middle;\n",
       "    }\n",
       "\n",
       "    .dataframe tbody tr th {\n",
       "        vertical-align: top;\n",
       "    }\n",
       "\n",
       "    .dataframe thead th {\n",
       "        text-align: right;\n",
       "    }\n",
       "</style>\n",
       "<table border=\"1\" class=\"dataframe\">\n",
       "  <thead>\n",
       "    <tr style=\"text-align: right;\">\n",
       "      <th></th>\n",
       "      <th>rainingdays</th>\n",
       "      <th>fruitset</th>\n",
       "      <th>seeds</th>\n",
       "      <th>yield</th>\n",
       "    </tr>\n",
       "    <tr>\n",
       "      <th>id</th>\n",
       "      <th></th>\n",
       "      <th></th>\n",
       "      <th></th>\n",
       "      <th></th>\n",
       "    </tr>\n",
       "  </thead>\n",
       "  <tbody>\n",
       "    <tr>\n",
       "      <th>0</th>\n",
       "      <td>24.0</td>\n",
       "      <td>0.425011</td>\n",
       "      <td>32.460887</td>\n",
       "      <td>4476.81146</td>\n",
       "    </tr>\n",
       "    <tr>\n",
       "      <th>1</th>\n",
       "      <td>24.0</td>\n",
       "      <td>0.444908</td>\n",
       "      <td>33.858317</td>\n",
       "      <td>5548.12201</td>\n",
       "    </tr>\n",
       "    <tr>\n",
       "      <th>2</th>\n",
       "      <td>24.0</td>\n",
       "      <td>0.552927</td>\n",
       "      <td>38.341781</td>\n",
       "      <td>6869.77760</td>\n",
       "    </tr>\n",
       "    <tr>\n",
       "      <th>3</th>\n",
       "      <td>24.0</td>\n",
       "      <td>0.565976</td>\n",
       "      <td>39.467561</td>\n",
       "      <td>6880.77590</td>\n",
       "    </tr>\n",
       "    <tr>\n",
       "      <th>4</th>\n",
       "      <td>24.0</td>\n",
       "      <td>0.579677</td>\n",
       "      <td>40.484512</td>\n",
       "      <td>7479.93417</td>\n",
       "    </tr>\n",
       "  </tbody>\n",
       "</table>\n",
       "</div>"
      ],
      "text/plain": [
       "    rainingdays  fruitset      seeds       yield\n",
       "id                                              \n",
       "0          24.0  0.425011  32.460887  4476.81146\n",
       "1          24.0  0.444908  33.858317  5548.12201\n",
       "2          24.0  0.552927  38.341781  6869.77760\n",
       "3          24.0  0.565976  39.467561  6880.77590\n",
       "4          24.0  0.579677  40.484512  7479.93417"
      ]
     },
     "execution_count": 99,
     "metadata": {},
     "output_type": "execute_result"
    }
   ],
   "source": [
    "select_df = train_df.drop(columns=cols_to_drop)\n",
    "select_df.head()"
   ]
  },
  {
   "attachments": {},
   "cell_type": "markdown",
   "metadata": {},
   "source": [
    "___"
   ]
  },
  {
   "attachments": {},
   "cell_type": "markdown",
   "metadata": {},
   "source": [
    "## Model Building"
   ]
  },
  {
   "cell_type": "code",
   "execution_count": 100,
   "metadata": {},
   "outputs": [
    {
     "data": {
      "text/html": [
       "<div>\n",
       "<style scoped>\n",
       "    .dataframe tbody tr th:only-of-type {\n",
       "        vertical-align: middle;\n",
       "    }\n",
       "\n",
       "    .dataframe tbody tr th {\n",
       "        vertical-align: top;\n",
       "    }\n",
       "\n",
       "    .dataframe thead th {\n",
       "        text-align: right;\n",
       "    }\n",
       "</style>\n",
       "<table border=\"1\" class=\"dataframe\">\n",
       "  <thead>\n",
       "    <tr style=\"text-align: right;\">\n",
       "      <th></th>\n",
       "      <th>clonesize</th>\n",
       "      <th>honeybee</th>\n",
       "      <th>bumbles</th>\n",
       "      <th>andrena</th>\n",
       "      <th>osmia</th>\n",
       "      <th>maxofuppertrange</th>\n",
       "      <th>minofuppertrange</th>\n",
       "      <th>averageofuppertrange</th>\n",
       "      <th>maxoflowertrange</th>\n",
       "      <th>minoflowertrange</th>\n",
       "      <th>averageoflowertrange</th>\n",
       "      <th>rainingdays</th>\n",
       "      <th>averagerainingdays</th>\n",
       "      <th>fruitset</th>\n",
       "      <th>fruitmass</th>\n",
       "      <th>seeds</th>\n",
       "      <th>yield</th>\n",
       "    </tr>\n",
       "    <tr>\n",
       "      <th>id</th>\n",
       "      <th></th>\n",
       "      <th></th>\n",
       "      <th></th>\n",
       "      <th></th>\n",
       "      <th></th>\n",
       "      <th></th>\n",
       "      <th></th>\n",
       "      <th></th>\n",
       "      <th></th>\n",
       "      <th></th>\n",
       "      <th></th>\n",
       "      <th></th>\n",
       "      <th></th>\n",
       "      <th></th>\n",
       "      <th></th>\n",
       "      <th></th>\n",
       "      <th></th>\n",
       "    </tr>\n",
       "  </thead>\n",
       "  <tbody>\n",
       "    <tr>\n",
       "      <th>0</th>\n",
       "      <td>25.0</td>\n",
       "      <td>0.50</td>\n",
       "      <td>0.25</td>\n",
       "      <td>0.75</td>\n",
       "      <td>0.50</td>\n",
       "      <td>69.7</td>\n",
       "      <td>42.1</td>\n",
       "      <td>58.2</td>\n",
       "      <td>50.2</td>\n",
       "      <td>24.3</td>\n",
       "      <td>41.2</td>\n",
       "      <td>24.0</td>\n",
       "      <td>0.39</td>\n",
       "      <td>0.425011</td>\n",
       "      <td>0.417545</td>\n",
       "      <td>32.460887</td>\n",
       "      <td>4476.81146</td>\n",
       "    </tr>\n",
       "    <tr>\n",
       "      <th>1</th>\n",
       "      <td>25.0</td>\n",
       "      <td>0.50</td>\n",
       "      <td>0.25</td>\n",
       "      <td>0.50</td>\n",
       "      <td>0.50</td>\n",
       "      <td>69.7</td>\n",
       "      <td>42.1</td>\n",
       "      <td>58.2</td>\n",
       "      <td>50.2</td>\n",
       "      <td>24.3</td>\n",
       "      <td>41.2</td>\n",
       "      <td>24.0</td>\n",
       "      <td>0.39</td>\n",
       "      <td>0.444908</td>\n",
       "      <td>0.422051</td>\n",
       "      <td>33.858317</td>\n",
       "      <td>5548.12201</td>\n",
       "    </tr>\n",
       "    <tr>\n",
       "      <th>2</th>\n",
       "      <td>12.5</td>\n",
       "      <td>0.25</td>\n",
       "      <td>0.25</td>\n",
       "      <td>0.63</td>\n",
       "      <td>0.63</td>\n",
       "      <td>86.0</td>\n",
       "      <td>52.0</td>\n",
       "      <td>71.9</td>\n",
       "      <td>62.0</td>\n",
       "      <td>30.0</td>\n",
       "      <td>50.8</td>\n",
       "      <td>24.0</td>\n",
       "      <td>0.39</td>\n",
       "      <td>0.552927</td>\n",
       "      <td>0.470853</td>\n",
       "      <td>38.341781</td>\n",
       "      <td>6869.77760</td>\n",
       "    </tr>\n",
       "    <tr>\n",
       "      <th>3</th>\n",
       "      <td>12.5</td>\n",
       "      <td>0.25</td>\n",
       "      <td>0.25</td>\n",
       "      <td>0.63</td>\n",
       "      <td>0.50</td>\n",
       "      <td>77.4</td>\n",
       "      <td>46.8</td>\n",
       "      <td>64.7</td>\n",
       "      <td>55.8</td>\n",
       "      <td>27.0</td>\n",
       "      <td>45.8</td>\n",
       "      <td>24.0</td>\n",
       "      <td>0.39</td>\n",
       "      <td>0.565976</td>\n",
       "      <td>0.478137</td>\n",
       "      <td>39.467561</td>\n",
       "      <td>6880.77590</td>\n",
       "    </tr>\n",
       "    <tr>\n",
       "      <th>4</th>\n",
       "      <td>25.0</td>\n",
       "      <td>0.50</td>\n",
       "      <td>0.25</td>\n",
       "      <td>0.63</td>\n",
       "      <td>0.63</td>\n",
       "      <td>77.4</td>\n",
       "      <td>46.8</td>\n",
       "      <td>64.7</td>\n",
       "      <td>55.8</td>\n",
       "      <td>27.0</td>\n",
       "      <td>45.8</td>\n",
       "      <td>24.0</td>\n",
       "      <td>0.39</td>\n",
       "      <td>0.579677</td>\n",
       "      <td>0.494165</td>\n",
       "      <td>40.484512</td>\n",
       "      <td>7479.93417</td>\n",
       "    </tr>\n",
       "  </tbody>\n",
       "</table>\n",
       "</div>"
      ],
      "text/plain": [
       "    clonesize  honeybee  bumbles  andrena  osmia  maxofuppertrange  \\\n",
       "id                                                                   \n",
       "0        25.0      0.50     0.25     0.75   0.50              69.7   \n",
       "1        25.0      0.50     0.25     0.50   0.50              69.7   \n",
       "2        12.5      0.25     0.25     0.63   0.63              86.0   \n",
       "3        12.5      0.25     0.25     0.63   0.50              77.4   \n",
       "4        25.0      0.50     0.25     0.63   0.63              77.4   \n",
       "\n",
       "    minofuppertrange  averageofuppertrange  maxoflowertrange  \\\n",
       "id                                                             \n",
       "0               42.1                  58.2              50.2   \n",
       "1               42.1                  58.2              50.2   \n",
       "2               52.0                  71.9              62.0   \n",
       "3               46.8                  64.7              55.8   \n",
       "4               46.8                  64.7              55.8   \n",
       "\n",
       "    minoflowertrange  averageoflowertrange  rainingdays  averagerainingdays  \\\n",
       "id                                                                            \n",
       "0               24.3                  41.2         24.0                0.39   \n",
       "1               24.3                  41.2         24.0                0.39   \n",
       "2               30.0                  50.8         24.0                0.39   \n",
       "3               27.0                  45.8         24.0                0.39   \n",
       "4               27.0                  45.8         24.0                0.39   \n",
       "\n",
       "    fruitset  fruitmass      seeds       yield  \n",
       "id                                              \n",
       "0   0.425011   0.417545  32.460887  4476.81146  \n",
       "1   0.444908   0.422051  33.858317  5548.12201  \n",
       "2   0.552927   0.470853  38.341781  6869.77760  \n",
       "3   0.565976   0.478137  39.467561  6880.77590  \n",
       "4   0.579677   0.494165  40.484512  7479.93417  "
      ]
     },
     "execution_count": 100,
     "metadata": {},
     "output_type": "execute_result"
    }
   ],
   "source": [
    "df = train_df\n",
    "# df = feature_engineer(df)\n",
    "df.head()"
   ]
  },
  {
   "cell_type": "code",
   "execution_count": 101,
   "metadata": {},
   "outputs": [],
   "source": [
    "X = df.drop('yield', axis=1)\n",
    "y = df['yield']"
   ]
  },
  {
   "cell_type": "code",
   "execution_count": 102,
   "metadata": {},
   "outputs": [],
   "source": [
    "X_train, X_test, y_train, y_test = train_test_split(X, y, test_size=0.2, random_state=42)"
   ]
  },
  {
   "attachments": {},
   "cell_type": "markdown",
   "metadata": {},
   "source": [
    "### Linear Regressor"
   ]
  },
  {
   "cell_type": "code",
   "execution_count": 103,
   "metadata": {},
   "outputs": [],
   "source": [
    "lr = LinearRegression()"
   ]
  },
  {
   "cell_type": "code",
   "execution_count": 104,
   "metadata": {},
   "outputs": [
    {
     "name": "stdout",
     "output_type": "stream",
     "text": [
      "0.8099181538889013\n",
      "0.8104766968969612\n"
     ]
    }
   ],
   "source": [
    "lr.fit(X_train, y_train)\n",
    "print(lr.score(X_train, y_train))\n",
    "print(lr.score(X_test, y_test))"
   ]
  },
  {
   "attachments": {},
   "cell_type": "markdown",
   "metadata": {},
   "source": [
    "### Decision Tree Regressor"
   ]
  },
  {
   "cell_type": "code",
   "execution_count": 105,
   "metadata": {},
   "outputs": [],
   "source": [
    "tree = DecisionTreeRegressor(max_depth=10, min_samples_split=10, max_features=4)\n",
    "# tree = DecisionTreeRegressor()"
   ]
  },
  {
   "cell_type": "code",
   "execution_count": 106,
   "metadata": {},
   "outputs": [
    {
     "name": "stdout",
     "output_type": "stream",
     "text": [
      "0.8481059862199811\n",
      "0.7780416027301851\n"
     ]
    }
   ],
   "source": [
    "tree.fit(X_train, y_train)\n",
    "print(tree.score(X_train, y_train))\n",
    "print(tree.score(X_test, y_test))"
   ]
  },
  {
   "cell_type": "code",
   "execution_count": 107,
   "metadata": {},
   "outputs": [
    {
     "name": "stdout",
     "output_type": "stream",
     "text": [
      "Random Searched Decision Tree Score (Train): 0.8306147425527691\n",
      "Random Searched Decision Tree Score (Test): 0.7995050047867811\n",
      "Decision Tree Best Params: {'min_samples_split': 20, 'max_features': 6, 'max_depth': 8}\n"
     ]
    }
   ],
   "source": [
    "tree_params = {\n",
    "    \"max_depth\": [None, 5, 8, 10],\n",
    "    \"min_samples_split\": [5, 10, 15, 20],\n",
    "    \"max_features\": [2, 3, 4, 5, 6],\n",
    "}\n",
    "\n",
    "rs_tree = RandomizedSearchCV(tree,\n",
    "                      param_distributions = tree_params,\n",
    "                      cv=5,\n",
    "                      n_jobs=6,\n",
    "                      n_iter=50)\n",
    "\n",
    "rs_tree.fit(X_train, y_train)\n",
    "rs_tree_train_score = rs_tree.score(X_train, y_train)\n",
    "rs_tree_score = rs_tree.score(X_test, y_test)\n",
    "print(f\"Random Searched Decision Tree Score (Train): {rs_tree_train_score}\")\n",
    "print(f\"Random Searched Decision Tree Score (Test): {rs_tree_score}\")\n",
    "print(f\"Decision Tree Best Params: {rs_tree.best_params_}\")"
   ]
  },
  {
   "attachments": {},
   "cell_type": "markdown",
   "metadata": {},
   "source": [
    "### Random Forest Regressor"
   ]
  },
  {
   "cell_type": "code",
   "execution_count": 108,
   "metadata": {},
   "outputs": [],
   "source": [
    "rf = RandomForestRegressor(n_estimators=10, max_depth=20, min_samples_split=2, max_features=4)\n",
    "# rf = RandomForestRegressor()"
   ]
  },
  {
   "cell_type": "code",
   "execution_count": 109,
   "metadata": {},
   "outputs": [
    {
     "name": "stdout",
     "output_type": "stream",
     "text": [
      "0.9614846892268812\n",
      "0.7989361792737968\n"
     ]
    }
   ],
   "source": [
    "rf.fit(X_train, y_train)\n",
    "print(rf.score(X_train, y_train))\n",
    "print(rf.score(X_test, y_test))"
   ]
  },
  {
   "cell_type": "code",
   "execution_count": 110,
   "metadata": {},
   "outputs": [
    {
     "name": "stdout",
     "output_type": "stream",
     "text": [
      "Grid Searched Random Forest Score (Train): 0.870558820572492\n",
      "Grid Searched Random Forest Score (Test): 0.824409007914199\n",
      "Random Forest Best Params: {'max_depth': 10, 'max_samples': 0.5, 'n_estimators': 2000}\n"
     ]
    }
   ],
   "source": [
    "rf_params = {\n",
    "    \"n_estimators\": [10, 1_500, 2_000],\n",
    "    \"max_depth\": [None, 10, 20],\n",
    "    \"max_samples\": [0.1, 0.5]\n",
    "}\n",
    "\n",
    "gs_rf = GridSearchCV(rf,\n",
    "                      param_grid = rf_params,\n",
    "                      cv=5,\n",
    "                      n_jobs=6)\n",
    "\n",
    "gs_rf.fit(X_train, y_train)\n",
    "gs_rf_train_score = gs_rf.score(X_train, y_train)\n",
    "gs_rf_score = gs_rf.score(X_test, y_test)\n",
    "print(f\"Grid Searched Random Forest Score (Train): {gs_rf_train_score}\")\n",
    "print(f\"Grid Searched Random Forest Score (Test): {gs_rf_score}\")\n",
    "print(f\"Random Forest Best Params: {gs_rf.best_params_}\")"
   ]
  },
  {
   "cell_type": "code",
   "execution_count": 111,
   "metadata": {},
   "outputs": [
    {
     "name": "stdout",
     "output_type": "stream",
     "text": [
      "Random Searched Random Forest Score (Train): 0.8703043278925577\n",
      "Random Searched Random Forest Score (Test): 0.8242628519605228\n",
      "Random Forest Best Params: {'n_estimators': 1500, 'max_samples': 0.5, 'max_depth': 10}\n"
     ]
    }
   ],
   "source": [
    "rs_rf = RandomizedSearchCV(rf,\n",
    "                      param_distributions = rf_params,\n",
    "                      cv=5,\n",
    "                      n_jobs=6,\n",
    "                      n_iter=20)\n",
    "\n",
    "rs_rf.fit(X_train, y_train)\n",
    "rs_rf_train_score = rs_rf.score(X_train, y_train)\n",
    "rs_rf_score = rs_rf.score(X_test, y_test)\n",
    "print(f\"Random Searched Random Forest Score (Train): {rs_rf_train_score}\")\n",
    "print(f\"Random Searched Random Forest Score (Test): {rs_rf_score}\")\n",
    "print(f\"Random Forest Best Params: {rs_rf.best_params_}\")"
   ]
  },
  {
   "attachments": {},
   "cell_type": "markdown",
   "metadata": {},
   "source": [
    "### Bagging Regressor"
   ]
  },
  {
   "cell_type": "code",
   "execution_count": 112,
   "metadata": {},
   "outputs": [],
   "source": [
    "bag = BaggingRegressor()"
   ]
  },
  {
   "cell_type": "code",
   "execution_count": 113,
   "metadata": {},
   "outputs": [
    {
     "name": "stdout",
     "output_type": "stream",
     "text": [
      "0.9623193070272335\n",
      "0.7900414774931266\n"
     ]
    }
   ],
   "source": [
    "bag.fit(X_train, y_train)\n",
    "print(bag.score(X_train, y_train))\n",
    "print(bag.score(X_test, y_test))"
   ]
  },
  {
   "cell_type": "code",
   "execution_count": 114,
   "metadata": {},
   "outputs": [
    {
     "name": "stdout",
     "output_type": "stream",
     "text": [
      "Random Searched Bagged Decision Tree Score (Train): 0.8232618122404542\n",
      "Random Searched Bagged Decision Tree Score (Test): 0.7842107197315743\n",
      "Bagged Decision Tree Best Params: {'min_samples_split': 5, 'max_features': 4, 'max_depth': 8}\n"
     ]
    }
   ],
   "source": [
    "bag_params = {\n",
    "    # \"n_estimators\": [5, 10, 20],\n",
    "    \"max_depth\": [None, 5, 8, 10],\n",
    "    \"min_samples_split\": [5, 10, 15, 20],\n",
    "    # \"max_samples\": [5, 10, 20, 100],\n",
    "    \"max_features\": [1, 2, 3, 4],\n",
    "}\n",
    "\n",
    "rs_bag = RandomizedSearchCV(tree,\n",
    "                      param_distributions = bag_params,\n",
    "                      cv=5,\n",
    "                      n_jobs=6,\n",
    "                      n_iter=50)\n",
    "\n",
    "rs_bag.fit(X_train, y_train)\n",
    "rs_bag_train_score = rs_bag.score(X_train, y_train)\n",
    "rs_bag_score = rs_bag.score(X_test, y_test)\n",
    "print(f\"Random Searched Bagged Decision Tree Score (Train): {rs_bag_train_score}\")\n",
    "print(f\"Random Searched Bagged Decision Tree Score (Test): {rs_bag_score}\")\n",
    "print(f\"Bagged Decision Tree Best Params: {rs_bag.best_params_}\")"
   ]
  },
  {
   "attachments": {},
   "cell_type": "markdown",
   "metadata": {},
   "source": [
    "### AdaBoost Regressor"
   ]
  },
  {
   "cell_type": "code",
   "execution_count": 115,
   "metadata": {},
   "outputs": [],
   "source": [
    "ada = AdaBoostRegressor()"
   ]
  },
  {
   "cell_type": "code",
   "execution_count": 116,
   "metadata": {},
   "outputs": [
    {
     "name": "stdout",
     "output_type": "stream",
     "text": [
      "0.7190316707113976\n",
      "0.7153363976032312\n"
     ]
    }
   ],
   "source": [
    "ada.fit(X_train, y_train)\n",
    "print(ada.score(X_train, y_train))\n",
    "print(ada.score(X_test, y_test))"
   ]
  },
  {
   "cell_type": "code",
   "execution_count": 117,
   "metadata": {},
   "outputs": [
    {
     "name": "stdout",
     "output_type": "stream",
     "text": [
      "Random Searched Adaboost Score (Train): 0.7975834504592343\n",
      "Random Searched Adaboost Score (Test): 0.8006547861483528\n",
      "Adaboost Best Params: {'n_estimators': 20, 'learning_rate': 0.1}\n"
     ]
    }
   ],
   "source": [
    "ada_params = {\n",
    "    \"n_estimators\": [10, 20, 50, 100],\n",
    "    \"learning_rate\": [0.01, 0.1, 1],\n",
    "}\n",
    "\n",
    "rs_ada = RandomizedSearchCV(ada,\n",
    "                      param_distributions = ada_params,\n",
    "                      cv=5,\n",
    "                      n_jobs=6,\n",
    "                      n_iter=50)\n",
    "\n",
    "rs_ada.fit(X_train, y_train)\n",
    "rs_ada_train_score = rs_ada.score(X_train, y_train)\n",
    "rs_ada_score = rs_ada.score(X_test, y_test)\n",
    "print(f\"Random Searched Adaboost Score (Train): {rs_ada_train_score}\")\n",
    "print(f\"Random Searched Adaboost Score (Test): {rs_ada_score}\")\n",
    "print(f\"Adaboost Best Params: {rs_ada.best_params_}\")"
   ]
  },
  {
   "attachments": {},
   "cell_type": "markdown",
   "metadata": {},
   "source": [
    "### Gradient Boosting Regressor"
   ]
  },
  {
   "cell_type": "code",
   "execution_count": 118,
   "metadata": {},
   "outputs": [],
   "source": [
    "gb = GradientBoostingRegressor(learning_rate=0.05, n_estimators=500,random_state=42)\n",
    "# gb = GradientBoostingRegressor()"
   ]
  },
  {
   "cell_type": "code",
   "execution_count": 119,
   "metadata": {},
   "outputs": [
    {
     "name": "stdout",
     "output_type": "stream",
     "text": [
      "0.8472589951109507\n",
      "0.8252494142671271\n"
     ]
    }
   ],
   "source": [
    "gb.fit(X_train, y_train)\n",
    "print(gb.score(X_train, y_train))\n",
    "print(gb.score(X_test, y_test))"
   ]
  },
  {
   "cell_type": "code",
   "execution_count": 120,
   "metadata": {},
   "outputs": [
    {
     "name": "stdout",
     "output_type": "stream",
     "text": [
      "Random Searched Gradientboost Score (Train): 0.8392617945130856\n",
      "Random Searched Gradientboost Score (Test): 0.8254481161219985\n",
      "Gradientboost Best Params: {'n_estimators': 300, 'learning_rate': 0.05}\n"
     ]
    }
   ],
   "source": [
    "gb_params = {\n",
    "    \"n_estimators\": [10, 20, 50, 100, 200, 300, 400],\n",
    "    \"learning_rate\": [0.01, 0.05, 0.1, 0.5, 1],\n",
    "}\n",
    "\n",
    "rs_gb = RandomizedSearchCV(gb,\n",
    "                      param_distributions = gb_params,\n",
    "                      cv=5,\n",
    "                      n_jobs=6,\n",
    "                      n_iter=20)\n",
    "\n",
    "rs_gb.fit(X_train, y_train)\n",
    "rs_gb_train_score = rs_gb.score(X_train, y_train)\n",
    "rs_gb_score = rs_gb.score(X_test, y_test)\n",
    "print(f\"Random Searched Gradientboost Score (Train): {rs_gb_train_score}\")\n",
    "print(f\"Random Searched Gradientboost Score (Test): {rs_gb_score}\")\n",
    "print(f\"Gradientboost Best Params: {rs_gb.best_params_}\")"
   ]
  },
  {
   "attachments": {},
   "cell_type": "markdown",
   "metadata": {},
   "source": [
    "___"
   ]
  },
  {
   "attachments": {},
   "cell_type": "markdown",
   "metadata": {},
   "source": [
    "### KNN Regressor"
   ]
  },
  {
   "cell_type": "code",
   "execution_count": 121,
   "metadata": {},
   "outputs": [],
   "source": [
    "from warnings import simplefilter\n",
    "simplefilter(action='ignore', category=FutureWarning)"
   ]
  },
  {
   "cell_type": "code",
   "execution_count": 122,
   "metadata": {},
   "outputs": [],
   "source": [
    "knn = KNeighborsRegressor(n_neighbors = 5)"
   ]
  },
  {
   "cell_type": "code",
   "execution_count": 123,
   "metadata": {},
   "outputs": [
    {
     "name": "stdout",
     "output_type": "stream",
     "text": [
      "0.8293788914372683\n",
      "0.7472037517704027\n"
     ]
    }
   ],
   "source": [
    "knn.fit(X_train, y_train)\n",
    "print(knn.score(X_train, y_train))\n",
    "print(knn.score(X_test, y_test))\n"
   ]
  },
  {
   "cell_type": "code",
   "execution_count": 124,
   "metadata": {},
   "outputs": [
    {
     "name": "stdout",
     "output_type": "stream",
     "text": [
      "Random Searched KNN Score (Train): 0.999994517331852\n",
      "Random Searched KNN Score (Test): 0.7677358435145182\n",
      "KNN Best Params: {'weights': 'distance', 'n_neighbors': 30}\n"
     ]
    }
   ],
   "source": [
    "knn_params = {\n",
    "    \"n_neighbors\": [5, 10, 20, 30, 40, 50],\n",
    "    \"weights\": ['uniform', 'distance'],\n",
    "}\n",
    "\n",
    "rs_knn = RandomizedSearchCV(knn,\n",
    "                      param_distributions = knn_params,\n",
    "                      cv=5,\n",
    "                      n_jobs=6,\n",
    "                      n_iter=20)\n",
    "\n",
    "rs_knn.fit(X_train, y_train)\n",
    "rs_knn_train_score = rs_knn.score(X_train, y_train)\n",
    "rs_knn_score = rs_knn.score(X_test, y_test)\n",
    "print(f\"Random Searched KNN Score (Train): {rs_knn_train_score}\")\n",
    "print(f\"Random Searched KNN Score (Test): {rs_knn_score}\")\n",
    "print(f\"KNN Best Params: {rs_knn.best_params_}\")"
   ]
  },
  {
   "attachments": {},
   "cell_type": "markdown",
   "metadata": {},
   "source": [
    "### XGBoost Regressor"
   ]
  },
  {
   "cell_type": "code",
   "execution_count": 125,
   "metadata": {},
   "outputs": [],
   "source": [
    "xgb = xg.XGBRegressor(objective ='reg:squarederror', n_estimators = 10, seed = 123)"
   ]
  },
  {
   "cell_type": "code",
   "execution_count": 126,
   "metadata": {},
   "outputs": [
    {
     "name": "stdout",
     "output_type": "stream",
     "text": [
      "0.8281530191191618\n",
      "0.8026802685061007\n"
     ]
    }
   ],
   "source": [
    "xgb.fit(X_train, y_train)\n",
    "print(xgb.score(X_train, y_train))\n",
    "print(xgb.score(X_test, y_test))\n"
   ]
  },
  {
   "cell_type": "code",
   "execution_count": 127,
   "metadata": {},
   "outputs": [
    {
     "name": "stdout",
     "output_type": "stream",
     "text": [
      "Random Searched XGBoost Score (Train): 0.999994517331852\n",
      "Random Searched XGBoost Score (Test): 0.7677358435145182\n",
      "XGBoost Best Params: {'n_estimators': 1000, 'max_depth': 4, 'learning_rate': 0.01, 'gamma': 0.1}\n"
     ]
    }
   ],
   "source": [
    "xgb_params = {\n",
    "    \"learning_rate\": [0.01, 0.1, 0.5, 1],\n",
    "    \"gamma\": [0, 0.1, 1],\n",
    "    \"max_depth\": [2, 3, 4, 5, 6, 8, 10],\n",
    "    \"n_estimators\": [3, 5, 10, 20, 100, 1_000],\n",
    "}\n",
    "\n",
    "rs_xgb = RandomizedSearchCV(xgb,\n",
    "                      param_distributions = xgb_params,\n",
    "                      cv=5,\n",
    "                      n_jobs=6,\n",
    "                      n_iter=50)\n",
    "\n",
    "rs_xgb.fit(X_train, y_train)\n",
    "rs_xgb_train_score = rs_knn.score(X_train, y_train)\n",
    "rs_xgb_score = rs_knn.score(X_test, y_test)\n",
    "print(f\"Random Searched XGBoost Score (Train): {rs_xgb_train_score}\")\n",
    "print(f\"Random Searched XGBoost Score (Test): {rs_xgb_score}\")\n",
    "print(f\"XGBoost Best Params: {rs_xgb.best_params_}\")"
   ]
  },
  {
   "attachments": {},
   "cell_type": "markdown",
   "metadata": {},
   "source": [
    "# Model Ensembling"
   ]
  },
  {
   "attachments": {},
   "cell_type": "markdown",
   "metadata": {},
   "source": [
    "___"
   ]
  },
  {
   "cell_type": "code",
   "execution_count": 128,
   "metadata": {},
   "outputs": [],
   "source": [
    "# \"every\" model = one of each type (random searched or not)\n",
    "\n",
    "vc_all_base = VotingRegressor(estimators=[('lr', lr)\n",
    "                                 , ('tree', tree)\n",
    "                                #  , ('rf', rf)\n",
    "                                #  , ('bag', bag)\n",
    "                                #  , ('ada', ada)\n",
    "                                 , ('gb', gb)\n",
    "                                #  , ('knn', knn)\n",
    "                                 , ('xgb', xgb)\n",
    "                                #  , ('rs_tree', rs_tree)\n",
    "                                 , ('rs_rf', rs_rf)\n",
    "                                 , ('rs_bag', rs_bag)\n",
    "                                 , ('rs_ada', rs_ada)\n",
    "                                #  , ('rs_gb', rs_gb)\n",
    "                                 , ('rs_knn', rs_knn)\n",
    "                                #  , ('rs_xgb', rs_xgb)\n",
    "                                 ], n_jobs=6)"
   ]
  },
  {
   "cell_type": "code",
   "execution_count": 129,
   "metadata": {},
   "outputs": [],
   "source": [
    "vc = VotingRegressor(estimators=[('lr', lr)\n",
    "                                #  , ('tree', tree)\n",
    "                                #  , ('rf', rf)\n",
    "                                #  , ('bag', bag)\n",
    "                                #  , ('ada', ada)\n",
    "                                #  , ('gb', gb)\n",
    "                                #  , ('knn', knn)\n",
    "                                #  , ('xgb', xgb)\n",
    "                                #  , ('rs_tree', rs_tree)\n",
    "                                 , ('rs_rf', rs_rf)\n",
    "                                #  , ('rs_bag', rs_bag)\n",
    "                                #  , ('rs_ada', rs_ada)\n",
    "                                 , ('rs_gb', rs_gb)\n",
    "                                #  , ('rs_knn', rs_knn)\n",
    "                                #  , ('rs_xgb', rs_xgb)\n",
    "                                 ], n_jobs=6)"
   ]
  },
  {
   "cell_type": "code",
   "execution_count": 130,
   "metadata": {},
   "outputs": [
    {
     "name": "stdout",
     "output_type": "stream",
     "text": [
      "0.8832662274566198\n",
      "0.8224183397314654\n"
     ]
    }
   ],
   "source": [
    "# \"Full\"\n",
    "vc_all_base.fit(X_train, y_train)\n",
    "print(vc_all_base.score(X_train, y_train))\n",
    "print(vc_all_base.score(X_test, y_test))"
   ]
  },
  {
   "cell_type": "code",
   "execution_count": 131,
   "metadata": {},
   "outputs": [
    {
     "name": "stdout",
     "output_type": "stream",
     "text": [
      "0.8450708515655847\n",
      "0.8247498682881333\n"
     ]
    }
   ],
   "source": [
    "# select models only\n",
    "vc.fit(X_train, y_train)\n",
    "print(vc.score(X_train, y_train))\n",
    "print(vc.score(X_test, y_test))"
   ]
  },
  {
   "attachments": {},
   "cell_type": "markdown",
   "metadata": {},
   "source": [
    "# Scores Summary"
   ]
  },
  {
   "cell_type": "code",
   "execution_count": 132,
   "metadata": {},
   "outputs": [
    {
     "name": "stdout",
     "output_type": "stream",
     "text": [
      "==============================================\n",
      "Linear regression Training score: 0.8099181538889013\n",
      "Linear regression Testing score: 0.8104766968969612\n",
      "==============================================\n",
      "Decision Tree regressor Training score: 0.8481059862199811\n",
      "Decision Tree regressor Testing score: 0.7780416027301851\n",
      "Random Searched Decision Tree Score (Train): 0.8306147425527691\n",
      "Random Searched Decision Tree Score (Test): 0.7995050047867811\n",
      "==============================================\n",
      "Random Forest regression Training score: 0.9614846892268812\n",
      "Random Forest regression Testing score: 0.7989361792737968\n",
      "Random Searched Random Forest Score (Train): 0.8703043278925577\n",
      "Random Searched Random Forest Score (Test): 0.8242628519605228\n",
      "==============================================\n",
      "Bagging regressor Training score: 0.9623193070272335\n",
      "Bagging regressor Testing score: 0.7900414774931266\n",
      "Random Searched Bagged Decision Tree Score (Train): 0.8232618122404542\n",
      "Random Searched Bagged Decision Tree Score (Test): 0.7842107197315743\n",
      "==============================================\n",
      "Adaboost regressor Training score: 0.7190316707113976\n",
      "Adaboost regressor Testing score: 0.7153363976032312\n",
      "Random Searched Adaboost Score (Train): 0.7975834504592343\n",
      "Random Searched Adaboost Score (Test): 0.8006547861483528\n",
      "==============================================\n",
      "GradientBoost regressor Training score: 0.8472589951109507\n",
      "GradientBoost Tree regressor Testing score: 0.8252494142671271\n",
      "Random Searched Gradientboost Score (Train): 0.8392617945130856\n",
      "Random Searched Gradientboost Score (Test): 0.8254481161219985\n",
      "==============================================\n",
      "KNN regressor Training score: 0.8293788914372683\n",
      "KNN Tree regressor Testing score: 0.7472037517704027\n",
      "Random Searched KNN Score (Train): 0.999994517331852\n",
      "Random Searched KNN Score (Test): 0.7677358435145182\n",
      "==============================================\n",
      "XGBoost Training score: 0.8281530191191618\n",
      "XGBoost Testing score: 0.8026802685061007\n",
      "Random Searched XGBoost Score (Train): 0.999994517331852\n",
      "Random Searched XGBoost Score (Test): 0.7677358435145182\n",
      "==============================================\n",
      "Ensembled Training score: 0.8450708515655847\n",
      "Ensembled Testing score: 0.8247498682881333\n"
     ]
    }
   ],
   "source": [
    "print(\"==============================================\")\n",
    "print(f\"Linear regression Training score: {lr.score(X_train, y_train)}\")\n",
    "print(f\"Linear regression Testing score: {lr.score(X_test, y_test)}\")\n",
    "print(\"==============================================\")\n",
    "print(f\"Decision Tree regressor Training score: {tree.score(X_train, y_train)}\")\n",
    "print(f\"Decision Tree regressor Testing score: {tree.score(X_test, y_test)}\")\n",
    "print(f\"Random Searched Decision Tree Score (Train): {rs_tree_train_score}\")\n",
    "print(f\"Random Searched Decision Tree Score (Test): {rs_tree_score}\")\n",
    "print(\"==============================================\")\n",
    "print(f\"Random Forest regression Training score: {rf.score(X_train, y_train)}\")\n",
    "print(f\"Random Forest regression Testing score: {rf.score(X_test, y_test)}\")\n",
    "print(f\"Random Searched Random Forest Score (Train): {rs_rf_train_score}\")\n",
    "print(f\"Random Searched Random Forest Score (Test): {rs_rf_score}\")\n",
    "print(\"==============================================\")\n",
    "print(f\"Bagging regressor Training score: {bag.score(X_train, y_train)}\")\n",
    "print(f\"Bagging regressor Testing score: {bag.score(X_test, y_test)}\")\n",
    "print(f\"Random Searched Bagged Decision Tree Score (Train): {rs_bag_train_score}\")\n",
    "print(f\"Random Searched Bagged Decision Tree Score (Test): {rs_bag_score}\")\n",
    "print(\"==============================================\")\n",
    "print(f\"Adaboost regressor Training score: {ada.score(X_train, y_train)}\")\n",
    "print(f\"Adaboost regressor Testing score: {ada.score(X_test, y_test)}\")\n",
    "print(f\"Random Searched Adaboost Score (Train): {rs_ada_train_score}\")\n",
    "print(f\"Random Searched Adaboost Score (Test): {rs_ada_score}\")\n",
    "print(\"==============================================\")\n",
    "print(f\"GradientBoost regressor Training score: {gb.score(X_train, y_train)}\")\n",
    "print(f\"GradientBoost Tree regressor Testing score: {gb.score(X_test, y_test)}\")\n",
    "print(f\"Random Searched Gradientboost Score (Train): {rs_gb_train_score}\")\n",
    "print(f\"Random Searched Gradientboost Score (Test): {rs_gb_score}\")\n",
    "print(\"==============================================\")\n",
    "print(f\"KNN regressor Training score: {knn.score(X_train, y_train)}\")\n",
    "print(f\"KNN Tree regressor Testing score: {knn.score(X_test, y_test)}\")\n",
    "print(f\"Random Searched KNN Score (Train): {rs_knn_train_score}\")\n",
    "print(f\"Random Searched KNN Score (Test): {rs_knn_score}\")\n",
    "print(\"==============================================\")\n",
    "print(f\"XGBoost Training score: {xgb.score(X_train, y_train)}\")\n",
    "print(f\"XGBoost Testing score: {xgb.score(X_test, y_test)}\")\n",
    "print(f\"Random Searched XGBoost Score (Train): {rs_xgb_train_score}\")\n",
    "print(f\"Random Searched XGBoost Score (Test): {rs_xgb_score}\")\n",
    "print(\"==============================================\")\n",
    "print(f\"Ensembled Training score: {vc.score(X_train, y_train)}\")\n",
    "print(f\"Ensembled Testing score: {vc.score(X_test, y_test)}\")"
   ]
  },
  {
   "attachments": {},
   "cell_type": "markdown",
   "metadata": {},
   "source": [
    "#### PyCaret"
   ]
  },
  {
   "cell_type": "code",
   "execution_count": 133,
   "metadata": {},
   "outputs": [],
   "source": [
    "# import pycaret\n",
    "# pycaret.__version__"
   ]
  },
  {
   "cell_type": "code",
   "execution_count": 134,
   "metadata": {},
   "outputs": [
    {
     "data": {
      "text/html": [
       "<style type=\"text/css\">\n",
       "#T_d3b56_row8_col1 {\n",
       "  background-color: lightgreen;\n",
       "}\n",
       "</style>\n",
       "<table id=\"T_d3b56\">\n",
       "  <thead>\n",
       "    <tr>\n",
       "      <th class=\"blank level0\" >&nbsp;</th>\n",
       "      <th id=\"T_d3b56_level0_col0\" class=\"col_heading level0 col0\" >Description</th>\n",
       "      <th id=\"T_d3b56_level0_col1\" class=\"col_heading level0 col1\" >Value</th>\n",
       "    </tr>\n",
       "  </thead>\n",
       "  <tbody>\n",
       "    <tr>\n",
       "      <th id=\"T_d3b56_level0_row0\" class=\"row_heading level0 row0\" >0</th>\n",
       "      <td id=\"T_d3b56_row0_col0\" class=\"data row0 col0\" >Session id</td>\n",
       "      <td id=\"T_d3b56_row0_col1\" class=\"data row0 col1\" >123</td>\n",
       "    </tr>\n",
       "    <tr>\n",
       "      <th id=\"T_d3b56_level0_row1\" class=\"row_heading level0 row1\" >1</th>\n",
       "      <td id=\"T_d3b56_row1_col0\" class=\"data row1 col0\" >Target</td>\n",
       "      <td id=\"T_d3b56_row1_col1\" class=\"data row1 col1\" >yield</td>\n",
       "    </tr>\n",
       "    <tr>\n",
       "      <th id=\"T_d3b56_level0_row2\" class=\"row_heading level0 row2\" >2</th>\n",
       "      <td id=\"T_d3b56_row2_col0\" class=\"data row2 col0\" >Target type</td>\n",
       "      <td id=\"T_d3b56_row2_col1\" class=\"data row2 col1\" >Regression</td>\n",
       "    </tr>\n",
       "    <tr>\n",
       "      <th id=\"T_d3b56_level0_row3\" class=\"row_heading level0 row3\" >3</th>\n",
       "      <td id=\"T_d3b56_row3_col0\" class=\"data row3 col0\" >Original data shape</td>\n",
       "      <td id=\"T_d3b56_row3_col1\" class=\"data row3 col1\" >(15289, 17)</td>\n",
       "    </tr>\n",
       "    <tr>\n",
       "      <th id=\"T_d3b56_level0_row4\" class=\"row_heading level0 row4\" >4</th>\n",
       "      <td id=\"T_d3b56_row4_col0\" class=\"data row4 col0\" >Transformed data shape</td>\n",
       "      <td id=\"T_d3b56_row4_col1\" class=\"data row4 col1\" >(15289, 17)</td>\n",
       "    </tr>\n",
       "    <tr>\n",
       "      <th id=\"T_d3b56_level0_row5\" class=\"row_heading level0 row5\" >5</th>\n",
       "      <td id=\"T_d3b56_row5_col0\" class=\"data row5 col0\" >Transformed train set shape</td>\n",
       "      <td id=\"T_d3b56_row5_col1\" class=\"data row5 col1\" >(10702, 17)</td>\n",
       "    </tr>\n",
       "    <tr>\n",
       "      <th id=\"T_d3b56_level0_row6\" class=\"row_heading level0 row6\" >6</th>\n",
       "      <td id=\"T_d3b56_row6_col0\" class=\"data row6 col0\" >Transformed test set shape</td>\n",
       "      <td id=\"T_d3b56_row6_col1\" class=\"data row6 col1\" >(4587, 17)</td>\n",
       "    </tr>\n",
       "    <tr>\n",
       "      <th id=\"T_d3b56_level0_row7\" class=\"row_heading level0 row7\" >7</th>\n",
       "      <td id=\"T_d3b56_row7_col0\" class=\"data row7 col0\" >Numeric features</td>\n",
       "      <td id=\"T_d3b56_row7_col1\" class=\"data row7 col1\" >16</td>\n",
       "    </tr>\n",
       "    <tr>\n",
       "      <th id=\"T_d3b56_level0_row8\" class=\"row_heading level0 row8\" >8</th>\n",
       "      <td id=\"T_d3b56_row8_col0\" class=\"data row8 col0\" >Preprocess</td>\n",
       "      <td id=\"T_d3b56_row8_col1\" class=\"data row8 col1\" >True</td>\n",
       "    </tr>\n",
       "    <tr>\n",
       "      <th id=\"T_d3b56_level0_row9\" class=\"row_heading level0 row9\" >9</th>\n",
       "      <td id=\"T_d3b56_row9_col0\" class=\"data row9 col0\" >Imputation type</td>\n",
       "      <td id=\"T_d3b56_row9_col1\" class=\"data row9 col1\" >simple</td>\n",
       "    </tr>\n",
       "    <tr>\n",
       "      <th id=\"T_d3b56_level0_row10\" class=\"row_heading level0 row10\" >10</th>\n",
       "      <td id=\"T_d3b56_row10_col0\" class=\"data row10 col0\" >Numeric imputation</td>\n",
       "      <td id=\"T_d3b56_row10_col1\" class=\"data row10 col1\" >mean</td>\n",
       "    </tr>\n",
       "    <tr>\n",
       "      <th id=\"T_d3b56_level0_row11\" class=\"row_heading level0 row11\" >11</th>\n",
       "      <td id=\"T_d3b56_row11_col0\" class=\"data row11 col0\" >Categorical imputation</td>\n",
       "      <td id=\"T_d3b56_row11_col1\" class=\"data row11 col1\" >mode</td>\n",
       "    </tr>\n",
       "    <tr>\n",
       "      <th id=\"T_d3b56_level0_row12\" class=\"row_heading level0 row12\" >12</th>\n",
       "      <td id=\"T_d3b56_row12_col0\" class=\"data row12 col0\" >Fold Generator</td>\n",
       "      <td id=\"T_d3b56_row12_col1\" class=\"data row12 col1\" >KFold</td>\n",
       "    </tr>\n",
       "    <tr>\n",
       "      <th id=\"T_d3b56_level0_row13\" class=\"row_heading level0 row13\" >13</th>\n",
       "      <td id=\"T_d3b56_row13_col0\" class=\"data row13 col0\" >Fold Number</td>\n",
       "      <td id=\"T_d3b56_row13_col1\" class=\"data row13 col1\" >10</td>\n",
       "    </tr>\n",
       "    <tr>\n",
       "      <th id=\"T_d3b56_level0_row14\" class=\"row_heading level0 row14\" >14</th>\n",
       "      <td id=\"T_d3b56_row14_col0\" class=\"data row14 col0\" >CPU Jobs</td>\n",
       "      <td id=\"T_d3b56_row14_col1\" class=\"data row14 col1\" >-1</td>\n",
       "    </tr>\n",
       "    <tr>\n",
       "      <th id=\"T_d3b56_level0_row15\" class=\"row_heading level0 row15\" >15</th>\n",
       "      <td id=\"T_d3b56_row15_col0\" class=\"data row15 col0\" >Use GPU</td>\n",
       "      <td id=\"T_d3b56_row15_col1\" class=\"data row15 col1\" >False</td>\n",
       "    </tr>\n",
       "    <tr>\n",
       "      <th id=\"T_d3b56_level0_row16\" class=\"row_heading level0 row16\" >16</th>\n",
       "      <td id=\"T_d3b56_row16_col0\" class=\"data row16 col0\" >Log Experiment</td>\n",
       "      <td id=\"T_d3b56_row16_col1\" class=\"data row16 col1\" >False</td>\n",
       "    </tr>\n",
       "    <tr>\n",
       "      <th id=\"T_d3b56_level0_row17\" class=\"row_heading level0 row17\" >17</th>\n",
       "      <td id=\"T_d3b56_row17_col0\" class=\"data row17 col0\" >Experiment Name</td>\n",
       "      <td id=\"T_d3b56_row17_col1\" class=\"data row17 col1\" >reg-default-name</td>\n",
       "    </tr>\n",
       "    <tr>\n",
       "      <th id=\"T_d3b56_level0_row18\" class=\"row_heading level0 row18\" >18</th>\n",
       "      <td id=\"T_d3b56_row18_col0\" class=\"data row18 col0\" >USI</td>\n",
       "      <td id=\"T_d3b56_row18_col1\" class=\"data row18 col1\" >4f94</td>\n",
       "    </tr>\n",
       "  </tbody>\n",
       "</table>\n"
      ],
      "text/plain": [
       "<pandas.io.formats.style.Styler at 0x18f5d2f9700>"
      ]
     },
     "metadata": {},
     "output_type": "display_data"
    }
   ],
   "source": [
    "# from pycaret.regression import *\n",
    "s = setup(train_df, target = 'yield', session_id = 123)"
   ]
  },
  {
   "cell_type": "code",
   "execution_count": 135,
   "metadata": {},
   "outputs": [],
   "source": [
    "exp = RegressionExperiment()"
   ]
  },
  {
   "cell_type": "code",
   "execution_count": 136,
   "metadata": {},
   "outputs": [
    {
     "data": {
      "text/html": [
       "<style type=\"text/css\">\n",
       "#T_18299_row8_col1 {\n",
       "  background-color: lightgreen;\n",
       "}\n",
       "</style>\n",
       "<table id=\"T_18299\">\n",
       "  <thead>\n",
       "    <tr>\n",
       "      <th class=\"blank level0\" >&nbsp;</th>\n",
       "      <th id=\"T_18299_level0_col0\" class=\"col_heading level0 col0\" >Description</th>\n",
       "      <th id=\"T_18299_level0_col1\" class=\"col_heading level0 col1\" >Value</th>\n",
       "    </tr>\n",
       "  </thead>\n",
       "  <tbody>\n",
       "    <tr>\n",
       "      <th id=\"T_18299_level0_row0\" class=\"row_heading level0 row0\" >0</th>\n",
       "      <td id=\"T_18299_row0_col0\" class=\"data row0 col0\" >Session id</td>\n",
       "      <td id=\"T_18299_row0_col1\" class=\"data row0 col1\" >123</td>\n",
       "    </tr>\n",
       "    <tr>\n",
       "      <th id=\"T_18299_level0_row1\" class=\"row_heading level0 row1\" >1</th>\n",
       "      <td id=\"T_18299_row1_col0\" class=\"data row1 col0\" >Target</td>\n",
       "      <td id=\"T_18299_row1_col1\" class=\"data row1 col1\" >yield</td>\n",
       "    </tr>\n",
       "    <tr>\n",
       "      <th id=\"T_18299_level0_row2\" class=\"row_heading level0 row2\" >2</th>\n",
       "      <td id=\"T_18299_row2_col0\" class=\"data row2 col0\" >Target type</td>\n",
       "      <td id=\"T_18299_row2_col1\" class=\"data row2 col1\" >Regression</td>\n",
       "    </tr>\n",
       "    <tr>\n",
       "      <th id=\"T_18299_level0_row3\" class=\"row_heading level0 row3\" >3</th>\n",
       "      <td id=\"T_18299_row3_col0\" class=\"data row3 col0\" >Original data shape</td>\n",
       "      <td id=\"T_18299_row3_col1\" class=\"data row3 col1\" >(15289, 17)</td>\n",
       "    </tr>\n",
       "    <tr>\n",
       "      <th id=\"T_18299_level0_row4\" class=\"row_heading level0 row4\" >4</th>\n",
       "      <td id=\"T_18299_row4_col0\" class=\"data row4 col0\" >Transformed data shape</td>\n",
       "      <td id=\"T_18299_row4_col1\" class=\"data row4 col1\" >(15289, 17)</td>\n",
       "    </tr>\n",
       "    <tr>\n",
       "      <th id=\"T_18299_level0_row5\" class=\"row_heading level0 row5\" >5</th>\n",
       "      <td id=\"T_18299_row5_col0\" class=\"data row5 col0\" >Transformed train set shape</td>\n",
       "      <td id=\"T_18299_row5_col1\" class=\"data row5 col1\" >(10702, 17)</td>\n",
       "    </tr>\n",
       "    <tr>\n",
       "      <th id=\"T_18299_level0_row6\" class=\"row_heading level0 row6\" >6</th>\n",
       "      <td id=\"T_18299_row6_col0\" class=\"data row6 col0\" >Transformed test set shape</td>\n",
       "      <td id=\"T_18299_row6_col1\" class=\"data row6 col1\" >(4587, 17)</td>\n",
       "    </tr>\n",
       "    <tr>\n",
       "      <th id=\"T_18299_level0_row7\" class=\"row_heading level0 row7\" >7</th>\n",
       "      <td id=\"T_18299_row7_col0\" class=\"data row7 col0\" >Numeric features</td>\n",
       "      <td id=\"T_18299_row7_col1\" class=\"data row7 col1\" >16</td>\n",
       "    </tr>\n",
       "    <tr>\n",
       "      <th id=\"T_18299_level0_row8\" class=\"row_heading level0 row8\" >8</th>\n",
       "      <td id=\"T_18299_row8_col0\" class=\"data row8 col0\" >Preprocess</td>\n",
       "      <td id=\"T_18299_row8_col1\" class=\"data row8 col1\" >True</td>\n",
       "    </tr>\n",
       "    <tr>\n",
       "      <th id=\"T_18299_level0_row9\" class=\"row_heading level0 row9\" >9</th>\n",
       "      <td id=\"T_18299_row9_col0\" class=\"data row9 col0\" >Imputation type</td>\n",
       "      <td id=\"T_18299_row9_col1\" class=\"data row9 col1\" >simple</td>\n",
       "    </tr>\n",
       "    <tr>\n",
       "      <th id=\"T_18299_level0_row10\" class=\"row_heading level0 row10\" >10</th>\n",
       "      <td id=\"T_18299_row10_col0\" class=\"data row10 col0\" >Numeric imputation</td>\n",
       "      <td id=\"T_18299_row10_col1\" class=\"data row10 col1\" >mean</td>\n",
       "    </tr>\n",
       "    <tr>\n",
       "      <th id=\"T_18299_level0_row11\" class=\"row_heading level0 row11\" >11</th>\n",
       "      <td id=\"T_18299_row11_col0\" class=\"data row11 col0\" >Categorical imputation</td>\n",
       "      <td id=\"T_18299_row11_col1\" class=\"data row11 col1\" >mode</td>\n",
       "    </tr>\n",
       "    <tr>\n",
       "      <th id=\"T_18299_level0_row12\" class=\"row_heading level0 row12\" >12</th>\n",
       "      <td id=\"T_18299_row12_col0\" class=\"data row12 col0\" >Fold Generator</td>\n",
       "      <td id=\"T_18299_row12_col1\" class=\"data row12 col1\" >KFold</td>\n",
       "    </tr>\n",
       "    <tr>\n",
       "      <th id=\"T_18299_level0_row13\" class=\"row_heading level0 row13\" >13</th>\n",
       "      <td id=\"T_18299_row13_col0\" class=\"data row13 col0\" >Fold Number</td>\n",
       "      <td id=\"T_18299_row13_col1\" class=\"data row13 col1\" >10</td>\n",
       "    </tr>\n",
       "    <tr>\n",
       "      <th id=\"T_18299_level0_row14\" class=\"row_heading level0 row14\" >14</th>\n",
       "      <td id=\"T_18299_row14_col0\" class=\"data row14 col0\" >CPU Jobs</td>\n",
       "      <td id=\"T_18299_row14_col1\" class=\"data row14 col1\" >-1</td>\n",
       "    </tr>\n",
       "    <tr>\n",
       "      <th id=\"T_18299_level0_row15\" class=\"row_heading level0 row15\" >15</th>\n",
       "      <td id=\"T_18299_row15_col0\" class=\"data row15 col0\" >Use GPU</td>\n",
       "      <td id=\"T_18299_row15_col1\" class=\"data row15 col1\" >False</td>\n",
       "    </tr>\n",
       "    <tr>\n",
       "      <th id=\"T_18299_level0_row16\" class=\"row_heading level0 row16\" >16</th>\n",
       "      <td id=\"T_18299_row16_col0\" class=\"data row16 col0\" >Log Experiment</td>\n",
       "      <td id=\"T_18299_row16_col1\" class=\"data row16 col1\" >False</td>\n",
       "    </tr>\n",
       "    <tr>\n",
       "      <th id=\"T_18299_level0_row17\" class=\"row_heading level0 row17\" >17</th>\n",
       "      <td id=\"T_18299_row17_col0\" class=\"data row17 col0\" >Experiment Name</td>\n",
       "      <td id=\"T_18299_row17_col1\" class=\"data row17 col1\" >reg-default-name</td>\n",
       "    </tr>\n",
       "    <tr>\n",
       "      <th id=\"T_18299_level0_row18\" class=\"row_heading level0 row18\" >18</th>\n",
       "      <td id=\"T_18299_row18_col0\" class=\"data row18 col0\" >USI</td>\n",
       "      <td id=\"T_18299_row18_col1\" class=\"data row18 col1\" >fef0</td>\n",
       "    </tr>\n",
       "  </tbody>\n",
       "</table>\n"
      ],
      "text/plain": [
       "<pandas.io.formats.style.Styler at 0x18f9e51e940>"
      ]
     },
     "metadata": {},
     "output_type": "display_data"
    },
    {
     "data": {
      "text/plain": [
       "<pycaret.regression.oop.RegressionExperiment at 0x18f9deac160>"
      ]
     },
     "execution_count": 136,
     "metadata": {},
     "output_type": "execute_result"
    }
   ],
   "source": [
    "# init setup on exp\n",
    "exp.setup(train_df, target = 'yield', session_id = 123)"
   ]
  },
  {
   "cell_type": "code",
   "execution_count": 137,
   "metadata": {},
   "outputs": [
    {
     "data": {
      "text/html": [
       "<div>\n",
       "<style scoped>\n",
       "    .dataframe tbody tr th:only-of-type {\n",
       "        vertical-align: middle;\n",
       "    }\n",
       "\n",
       "    .dataframe tbody tr th {\n",
       "        vertical-align: top;\n",
       "    }\n",
       "\n",
       "    .dataframe thead th {\n",
       "        text-align: right;\n",
       "    }\n",
       "</style>\n",
       "<table border=\"1\" class=\"dataframe\">\n",
       "  <thead>\n",
       "    <tr style=\"text-align: right;\">\n",
       "      <th></th>\n",
       "      <th></th>\n",
       "      <th></th>\n",
       "    </tr>\n",
       "    <tr>\n",
       "      <th></th>\n",
       "      <th></th>\n",
       "      <th></th>\n",
       "    </tr>\n",
       "  </thead>\n",
       "  <tbody>\n",
       "    <tr>\n",
       "      <th>Initiated</th>\n",
       "      <td>. . . . . . . . . . . . . . . . . .</td>\n",
       "      <td>16:58:10</td>\n",
       "    </tr>\n",
       "    <tr>\n",
       "      <th>Status</th>\n",
       "      <td>. . . . . . . . . . . . . . . . . .</td>\n",
       "      <td>Loading Dependencies</td>\n",
       "    </tr>\n",
       "    <tr>\n",
       "      <th>Estimator</th>\n",
       "      <td>. . . . . . . . . . . . . . . . . .</td>\n",
       "      <td>Compiling Library</td>\n",
       "    </tr>\n",
       "  </tbody>\n",
       "</table>\n",
       "</div>"
      ],
      "text/plain": [
       "                                                                    \n",
       "                                                                    \n",
       "Initiated  . . . . . . . . . . . . . . . . . .              16:58:10\n",
       "Status     . . . . . . . . . . . . . . . . . .  Loading Dependencies\n",
       "Estimator  . . . . . . . . . . . . . . . . . .     Compiling Library"
      ]
     },
     "metadata": {},
     "output_type": "display_data"
    },
    {
     "data": {
      "text/html": [],
      "text/plain": [
       "<IPython.core.display.HTML object>"
      ]
     },
     "metadata": {},
     "output_type": "display_data"
    }
   ],
   "source": [
    "# compare baseline models\n",
    "best = compare_models()"
   ]
  },
  {
   "cell_type": "code",
   "execution_count": 138,
   "metadata": {},
   "outputs": [
    {
     "data": {
      "text/html": [
       "<div>\n",
       "<style scoped>\n",
       "    .dataframe tbody tr th:only-of-type {\n",
       "        vertical-align: middle;\n",
       "    }\n",
       "\n",
       "    .dataframe tbody tr th {\n",
       "        vertical-align: top;\n",
       "    }\n",
       "\n",
       "    .dataframe thead th {\n",
       "        text-align: right;\n",
       "    }\n",
       "</style>\n",
       "<table border=\"1\" class=\"dataframe\">\n",
       "  <thead>\n",
       "    <tr style=\"text-align: right;\">\n",
       "      <th></th>\n",
       "      <th>Model</th>\n",
       "      <th>MAE</th>\n",
       "      <th>MSE</th>\n",
       "      <th>RMSE</th>\n",
       "      <th>R2</th>\n",
       "      <th>RMSLE</th>\n",
       "      <th>MAPE</th>\n",
       "      <th>TT (Sec)</th>\n",
       "    </tr>\n",
       "  </thead>\n",
       "  <tbody>\n",
       "    <tr>\n",
       "      <th>gbr</th>\n",
       "      <td>Gradient Boosting Regressor</td>\n",
       "      <td>355.8612</td>\n",
       "      <td>3.196117e+05</td>\n",
       "      <td>564.4388</td>\n",
       "      <td>0.8205</td>\n",
       "      <td>0.1020</td>\n",
       "      <td>0.0630</td>\n",
       "      <td>0.066</td>\n",
       "    </tr>\n",
       "    <tr>\n",
       "      <th>catboost</th>\n",
       "      <td>CatBoost Regressor</td>\n",
       "      <td>358.5941</td>\n",
       "      <td>3.223109e+05</td>\n",
       "      <td>566.8106</td>\n",
       "      <td>0.8190</td>\n",
       "      <td>0.1029</td>\n",
       "      <td>0.0636</td>\n",
       "      <td>0.135</td>\n",
       "    </tr>\n",
       "    <tr>\n",
       "      <th>lightgbm</th>\n",
       "      <td>Light Gradient Boosting Machine</td>\n",
       "      <td>357.8139</td>\n",
       "      <td>3.237920e+05</td>\n",
       "      <td>568.1761</td>\n",
       "      <td>0.8183</td>\n",
       "      <td>0.1031</td>\n",
       "      <td>0.0634</td>\n",
       "      <td>0.153</td>\n",
       "    </tr>\n",
       "    <tr>\n",
       "      <th>rf</th>\n",
       "      <td>Random Forest Regressor</td>\n",
       "      <td>369.5804</td>\n",
       "      <td>3.418965e+05</td>\n",
       "      <td>583.8863</td>\n",
       "      <td>0.8080</td>\n",
       "      <td>0.1056</td>\n",
       "      <td>0.0655</td>\n",
       "      <td>0.101</td>\n",
       "    </tr>\n",
       "    <tr>\n",
       "      <th>ridge</th>\n",
       "      <td>Ridge Regression</td>\n",
       "      <td>376.7938</td>\n",
       "      <td>3.483618e+05</td>\n",
       "      <td>589.2342</td>\n",
       "      <td>0.8045</td>\n",
       "      <td>0.1087</td>\n",
       "      <td>0.0675</td>\n",
       "      <td>0.062</td>\n",
       "    </tr>\n",
       "    <tr>\n",
       "      <th>llar</th>\n",
       "      <td>Lasso Least Angle Regression</td>\n",
       "      <td>380.5148</td>\n",
       "      <td>3.483527e+05</td>\n",
       "      <td>589.4500</td>\n",
       "      <td>0.8045</td>\n",
       "      <td>0.1072</td>\n",
       "      <td>0.0682</td>\n",
       "      <td>0.059</td>\n",
       "    </tr>\n",
       "    <tr>\n",
       "      <th>lasso</th>\n",
       "      <td>Lasso Regression</td>\n",
       "      <td>381.0311</td>\n",
       "      <td>3.486859e+05</td>\n",
       "      <td>589.7616</td>\n",
       "      <td>0.8043</td>\n",
       "      <td>0.1073</td>\n",
       "      <td>0.0682</td>\n",
       "      <td>0.255</td>\n",
       "    </tr>\n",
       "    <tr>\n",
       "      <th>xgboost</th>\n",
       "      <td>Extreme Gradient Boosting</td>\n",
       "      <td>376.2071</td>\n",
       "      <td>3.532137e+05</td>\n",
       "      <td>593.4011</td>\n",
       "      <td>0.8017</td>\n",
       "      <td>0.1080</td>\n",
       "      <td>0.0669</td>\n",
       "      <td>0.063</td>\n",
       "    </tr>\n",
       "    <tr>\n",
       "      <th>et</th>\n",
       "      <td>Extra Trees Regressor</td>\n",
       "      <td>383.7303</td>\n",
       "      <td>3.538011e+05</td>\n",
       "      <td>593.9745</td>\n",
       "      <td>0.8013</td>\n",
       "      <td>0.1073</td>\n",
       "      <td>0.0679</td>\n",
       "      <td>0.115</td>\n",
       "    </tr>\n",
       "    <tr>\n",
       "      <th>br</th>\n",
       "      <td>Bayesian Ridge</td>\n",
       "      <td>374.8673</td>\n",
       "      <td>3.944851e+05</td>\n",
       "      <td>617.5927</td>\n",
       "      <td>0.7782</td>\n",
       "      <td>0.1065</td>\n",
       "      <td>0.0667</td>\n",
       "      <td>0.057</td>\n",
       "    </tr>\n",
       "    <tr>\n",
       "      <th>lr</th>\n",
       "      <td>Linear Regression</td>\n",
       "      <td>375.1108</td>\n",
       "      <td>4.042057e+05</td>\n",
       "      <td>622.5730</td>\n",
       "      <td>0.7726</td>\n",
       "      <td>0.1066</td>\n",
       "      <td>0.0668</td>\n",
       "      <td>0.643</td>\n",
       "    </tr>\n",
       "    <tr>\n",
       "      <th>huber</th>\n",
       "      <td>Huber Regressor</td>\n",
       "      <td>407.5107</td>\n",
       "      <td>4.094398e+05</td>\n",
       "      <td>638.1759</td>\n",
       "      <td>0.7705</td>\n",
       "      <td>0.1166</td>\n",
       "      <td>0.0736</td>\n",
       "      <td>0.058</td>\n",
       "    </tr>\n",
       "    <tr>\n",
       "      <th>en</th>\n",
       "      <td>Elastic Net</td>\n",
       "      <td>434.4137</td>\n",
       "      <td>4.185356e+05</td>\n",
       "      <td>645.7752</td>\n",
       "      <td>0.7653</td>\n",
       "      <td>0.1222</td>\n",
       "      <td>0.0808</td>\n",
       "      <td>0.061</td>\n",
       "    </tr>\n",
       "    <tr>\n",
       "      <th>knn</th>\n",
       "      <td>K Neighbors Regressor</td>\n",
       "      <td>460.0796</td>\n",
       "      <td>4.590243e+05</td>\n",
       "      <td>676.4482</td>\n",
       "      <td>0.7424</td>\n",
       "      <td>0.1273</td>\n",
       "      <td>0.0844</td>\n",
       "      <td>0.077</td>\n",
       "    </tr>\n",
       "    <tr>\n",
       "      <th>par</th>\n",
       "      <td>Passive Aggressive Regressor</td>\n",
       "      <td>549.8643</td>\n",
       "      <td>5.529188e+05</td>\n",
       "      <td>739.4028</td>\n",
       "      <td>0.6905</td>\n",
       "      <td>0.1420</td>\n",
       "      <td>0.1063</td>\n",
       "      <td>0.060</td>\n",
       "    </tr>\n",
       "    <tr>\n",
       "      <th>ada</th>\n",
       "      <td>AdaBoost Regressor</td>\n",
       "      <td>559.0222</td>\n",
       "      <td>5.884579e+05</td>\n",
       "      <td>766.4056</td>\n",
       "      <td>0.6696</td>\n",
       "      <td>0.1530</td>\n",
       "      <td>0.1111</td>\n",
       "      <td>0.065</td>\n",
       "    </tr>\n",
       "    <tr>\n",
       "      <th>dt</th>\n",
       "      <td>Decision Tree Regressor</td>\n",
       "      <td>533.4592</td>\n",
       "      <td>6.806157e+05</td>\n",
       "      <td>824.3753</td>\n",
       "      <td>0.6174</td>\n",
       "      <td>0.1488</td>\n",
       "      <td>0.0935</td>\n",
       "      <td>0.065</td>\n",
       "    </tr>\n",
       "    <tr>\n",
       "      <th>omp</th>\n",
       "      <td>Orthogonal Matching Pursuit</td>\n",
       "      <td>925.0365</td>\n",
       "      <td>1.378804e+06</td>\n",
       "      <td>1173.9844</td>\n",
       "      <td>0.2255</td>\n",
       "      <td>0.2178</td>\n",
       "      <td>0.1758</td>\n",
       "      <td>0.061</td>\n",
       "    </tr>\n",
       "    <tr>\n",
       "      <th>dummy</th>\n",
       "      <td>Dummy Regressor</td>\n",
       "      <td>1090.0138</td>\n",
       "      <td>1.783498e+06</td>\n",
       "      <td>1335.3003</td>\n",
       "      <td>-0.0015</td>\n",
       "      <td>0.2458</td>\n",
       "      <td>0.2081</td>\n",
       "      <td>0.060</td>\n",
       "    </tr>\n",
       "    <tr>\n",
       "      <th>lar</th>\n",
       "      <td>Least Angle Regression</td>\n",
       "      <td>484.5823</td>\n",
       "      <td>1.989036e+07</td>\n",
       "      <td>1974.9696</td>\n",
       "      <td>-10.3160</td>\n",
       "      <td>0.1221</td>\n",
       "      <td>0.0850</td>\n",
       "      <td>0.058</td>\n",
       "    </tr>\n",
       "  </tbody>\n",
       "</table>\n",
       "</div>"
      ],
      "text/plain": [
       "                                    Model        MAE           MSE       RMSE  \\\n",
       "gbr           Gradient Boosting Regressor   355.8612  3.196117e+05   564.4388   \n",
       "catboost               CatBoost Regressor   358.5941  3.223109e+05   566.8106   \n",
       "lightgbm  Light Gradient Boosting Machine   357.8139  3.237920e+05   568.1761   \n",
       "rf                Random Forest Regressor   369.5804  3.418965e+05   583.8863   \n",
       "ridge                    Ridge Regression   376.7938  3.483618e+05   589.2342   \n",
       "llar         Lasso Least Angle Regression   380.5148  3.483527e+05   589.4500   \n",
       "lasso                    Lasso Regression   381.0311  3.486859e+05   589.7616   \n",
       "xgboost         Extreme Gradient Boosting   376.2071  3.532137e+05   593.4011   \n",
       "et                  Extra Trees Regressor   383.7303  3.538011e+05   593.9745   \n",
       "br                         Bayesian Ridge   374.8673  3.944851e+05   617.5927   \n",
       "lr                      Linear Regression   375.1108  4.042057e+05   622.5730   \n",
       "huber                     Huber Regressor   407.5107  4.094398e+05   638.1759   \n",
       "en                            Elastic Net   434.4137  4.185356e+05   645.7752   \n",
       "knn                 K Neighbors Regressor   460.0796  4.590243e+05   676.4482   \n",
       "par          Passive Aggressive Regressor   549.8643  5.529188e+05   739.4028   \n",
       "ada                    AdaBoost Regressor   559.0222  5.884579e+05   766.4056   \n",
       "dt                Decision Tree Regressor   533.4592  6.806157e+05   824.3753   \n",
       "omp           Orthogonal Matching Pursuit   925.0365  1.378804e+06  1173.9844   \n",
       "dummy                     Dummy Regressor  1090.0138  1.783498e+06  1335.3003   \n",
       "lar                Least Angle Regression   484.5823  1.989036e+07  1974.9696   \n",
       "\n",
       "               R2   RMSLE    MAPE  TT (Sec)  \n",
       "gbr        0.8205  0.1020  0.0630     0.066  \n",
       "catboost   0.8190  0.1029  0.0636     0.135  \n",
       "lightgbm   0.8183  0.1031  0.0634     0.153  \n",
       "rf         0.8080  0.1056  0.0655     0.101  \n",
       "ridge      0.8045  0.1087  0.0675     0.062  \n",
       "llar       0.8045  0.1072  0.0682     0.059  \n",
       "lasso      0.8043  0.1073  0.0682     0.255  \n",
       "xgboost    0.8017  0.1080  0.0669     0.063  \n",
       "et         0.8013  0.1073  0.0679     0.115  \n",
       "br         0.7782  0.1065  0.0667     0.057  \n",
       "lr         0.7726  0.1066  0.0668     0.643  \n",
       "huber      0.7705  0.1166  0.0736     0.058  \n",
       "en         0.7653  0.1222  0.0808     0.061  \n",
       "knn        0.7424  0.1273  0.0844     0.077  \n",
       "par        0.6905  0.1420  0.1063     0.060  \n",
       "ada        0.6696  0.1530  0.1111     0.065  \n",
       "dt         0.6174  0.1488  0.0935     0.065  \n",
       "omp        0.2255  0.2178  0.1758     0.061  \n",
       "dummy     -0.0015  0.2458  0.2081     0.060  \n",
       "lar      -10.3160  0.1221  0.0850     0.058  "
      ]
     },
     "execution_count": 138,
     "metadata": {},
     "output_type": "execute_result"
    }
   ],
   "source": [
    "results = pull()\n",
    "results"
   ]
  },
  {
   "cell_type": "code",
   "execution_count": 139,
   "metadata": {},
   "outputs": [
    {
     "data": {
      "text/html": [],
      "text/plain": [
       "<IPython.core.display.HTML object>"
      ]
     },
     "metadata": {},
     "output_type": "display_data"
    },
    {
     "data": {
      "image/png": "[encoded data removed]",
      "text/plain": [
       "<Figure size 800x550 with 2 Axes>"
      ]
     },
     "metadata": {},
     "output_type": "display_data"
    }
   ],
   "source": [
    "# plot residuals\n",
    "plot_model(best, plot = 'residuals')"
   ]
  },
  {
   "cell_type": "code",
   "execution_count": 140,
   "metadata": {},
   "outputs": [
    {
     "data": {
      "text/html": [],
      "text/plain": [
       "<IPython.core.display.HTML object>"
      ]
     },
     "metadata": {},
     "output_type": "display_data"
    },
    {
     "data": {
      "image/png": "[encoded data removed]",
      "text/plain": [
       "<Figure size 800x550 with 1 Axes>"
      ]
     },
     "metadata": {},
     "output_type": "display_data"
    }
   ],
   "source": [
    "# plot error\n",
    "plot_model(best, plot = 'error')"
   ]
  },
  {
   "cell_type": "code",
   "execution_count": 141,
   "metadata": {},
   "outputs": [
    {
     "data": {
      "text/html": [],
      "text/plain": [
       "<IPython.core.display.HTML object>"
      ]
     },
     "metadata": {},
     "output_type": "display_data"
    },
    {
     "data": {
      "image/png": "[encoded data removed]",
      "text/plain": [
       "<Figure size 800x500 with 1 Axes>"
      ]
     },
     "metadata": {},
     "output_type": "display_data"
    }
   ],
   "source": [
    "# plot feature importance\n",
    "plot_model(best, plot = 'feature')"
   ]
  },
  {
   "cell_type": "code",
   "execution_count": 142,
   "metadata": {},
   "outputs": [
    {
     "data": {
      "text/html": [
       "<style type=\"text/css\">\n",
       "</style>\n",
       "<table id=\"T_206ea\">\n",
       "  <thead>\n",
       "    <tr>\n",
       "      <th class=\"blank level0\" >&nbsp;</th>\n",
       "      <th id=\"T_206ea_level0_col0\" class=\"col_heading level0 col0\" >Model</th>\n",
       "      <th id=\"T_206ea_level0_col1\" class=\"col_heading level0 col1\" >MAE</th>\n",
       "      <th id=\"T_206ea_level0_col2\" class=\"col_heading level0 col2\" >MSE</th>\n",
       "      <th id=\"T_206ea_level0_col3\" class=\"col_heading level0 col3\" >RMSE</th>\n",
       "      <th id=\"T_206ea_level0_col4\" class=\"col_heading level0 col4\" >R2</th>\n",
       "      <th id=\"T_206ea_level0_col5\" class=\"col_heading level0 col5\" >RMSLE</th>\n",
       "      <th id=\"T_206ea_level0_col6\" class=\"col_heading level0 col6\" >MAPE</th>\n",
       "    </tr>\n",
       "  </thead>\n",
       "  <tbody>\n",
       "    <tr>\n",
       "      <th id=\"T_206ea_level0_row0\" class=\"row_heading level0 row0\" >0</th>\n",
       "      <td id=\"T_206ea_row0_col0\" class=\"data row0 col0\" >Gradient Boosting Regressor</td>\n",
       "      <td id=\"T_206ea_row0_col1\" class=\"data row0 col1\" >357.6762</td>\n",
       "      <td id=\"T_206ea_row0_col2\" class=\"data row0 col2\" >318325.4837</td>\n",
       "      <td id=\"T_206ea_row0_col3\" class=\"data row0 col3\" >564.2034</td>\n",
       "      <td id=\"T_206ea_row0_col4\" class=\"data row0 col4\" >0.8229</td>\n",
       "      <td id=\"T_206ea_row0_col5\" class=\"data row0 col5\" >0.1037</td>\n",
       "      <td id=\"T_206ea_row0_col6\" class=\"data row0 col6\" >0.0637</td>\n",
       "    </tr>\n",
       "  </tbody>\n",
       "</table>\n"
      ],
      "text/plain": [
       "<pandas.io.formats.style.Styler at 0x18f5f586b80>"
      ]
     },
     "metadata": {},
     "output_type": "display_data"
    }
   ],
   "source": [
    "# predict on test set\n",
    "holdout_pred = predict_model(best)"
   ]
  },
  {
   "cell_type": "code",
   "execution_count": 143,
   "metadata": {},
   "outputs": [
    {
     "data": {
      "text/html": [
       "<div>\n",
       "<style scoped>\n",
       "    .dataframe tbody tr th:only-of-type {\n",
       "        vertical-align: middle;\n",
       "    }\n",
       "\n",
       "    .dataframe tbody tr th {\n",
       "        vertical-align: top;\n",
       "    }\n",
       "\n",
       "    .dataframe thead th {\n",
       "        text-align: right;\n",
       "    }\n",
       "</style>\n",
       "<table border=\"1\" class=\"dataframe\">\n",
       "  <thead>\n",
       "    <tr style=\"text-align: right;\">\n",
       "      <th></th>\n",
       "      <th>clonesize</th>\n",
       "      <th>honeybee</th>\n",
       "      <th>bumbles</th>\n",
       "      <th>andrena</th>\n",
       "      <th>osmia</th>\n",
       "      <th>maxofuppertrange</th>\n",
       "      <th>minofuppertrange</th>\n",
       "      <th>averageofuppertrange</th>\n",
       "      <th>maxoflowertrange</th>\n",
       "      <th>minoflowertrange</th>\n",
       "      <th>averageoflowertrange</th>\n",
       "      <th>rainingdays</th>\n",
       "      <th>averagerainingdays</th>\n",
       "      <th>fruitset</th>\n",
       "      <th>fruitmass</th>\n",
       "      <th>seeds</th>\n",
       "      <th>yield</th>\n",
       "      <th>prediction_label</th>\n",
       "    </tr>\n",
       "    <tr>\n",
       "      <th>id</th>\n",
       "      <th></th>\n",
       "      <th></th>\n",
       "      <th></th>\n",
       "      <th></th>\n",
       "      <th></th>\n",
       "      <th></th>\n",
       "      <th></th>\n",
       "      <th></th>\n",
       "      <th></th>\n",
       "      <th></th>\n",
       "      <th></th>\n",
       "      <th></th>\n",
       "      <th></th>\n",
       "      <th></th>\n",
       "      <th></th>\n",
       "      <th></th>\n",
       "      <th></th>\n",
       "      <th></th>\n",
       "    </tr>\n",
       "  </thead>\n",
       "  <tbody>\n",
       "    <tr>\n",
       "      <th>12552</th>\n",
       "      <td>25.0</td>\n",
       "      <td>0.50</td>\n",
       "      <td>0.25</td>\n",
       "      <td>0.75</td>\n",
       "      <td>0.63</td>\n",
       "      <td>69.699997</td>\n",
       "      <td>42.099998</td>\n",
       "      <td>58.200001</td>\n",
       "      <td>50.200001</td>\n",
       "      <td>24.299999</td>\n",
       "      <td>41.200001</td>\n",
       "      <td>24.0</td>\n",
       "      <td>0.39</td>\n",
       "      <td>0.483873</td>\n",
       "      <td>0.417947</td>\n",
       "      <td>34.207397</td>\n",
       "      <td>5381.272461</td>\n",
       "      <td>5742.356617</td>\n",
       "    </tr>\n",
       "    <tr>\n",
       "      <th>11427</th>\n",
       "      <td>25.0</td>\n",
       "      <td>0.50</td>\n",
       "      <td>0.25</td>\n",
       "      <td>0.63</td>\n",
       "      <td>0.50</td>\n",
       "      <td>86.000000</td>\n",
       "      <td>52.000000</td>\n",
       "      <td>71.900002</td>\n",
       "      <td>62.000000</td>\n",
       "      <td>30.000000</td>\n",
       "      <td>50.799999</td>\n",
       "      <td>24.0</td>\n",
       "      <td>0.39</td>\n",
       "      <td>0.432912</td>\n",
       "      <td>0.417909</td>\n",
       "      <td>32.789375</td>\n",
       "      <td>4278.763184</td>\n",
       "      <td>4676.180172</td>\n",
       "    </tr>\n",
       "    <tr>\n",
       "      <th>1754</th>\n",
       "      <td>25.0</td>\n",
       "      <td>0.50</td>\n",
       "      <td>0.25</td>\n",
       "      <td>0.38</td>\n",
       "      <td>0.75</td>\n",
       "      <td>69.699997</td>\n",
       "      <td>42.099998</td>\n",
       "      <td>58.200001</td>\n",
       "      <td>50.200001</td>\n",
       "      <td>24.299999</td>\n",
       "      <td>41.200001</td>\n",
       "      <td>34.0</td>\n",
       "      <td>0.56</td>\n",
       "      <td>0.350993</td>\n",
       "      <td>0.377566</td>\n",
       "      <td>28.438202</td>\n",
       "      <td>3511.537842</td>\n",
       "      <td>3752.640197</td>\n",
       "    </tr>\n",
       "    <tr>\n",
       "      <th>7078</th>\n",
       "      <td>12.5</td>\n",
       "      <td>0.25</td>\n",
       "      <td>0.38</td>\n",
       "      <td>0.38</td>\n",
       "      <td>0.63</td>\n",
       "      <td>86.000000</td>\n",
       "      <td>52.000000</td>\n",
       "      <td>71.900002</td>\n",
       "      <td>62.000000</td>\n",
       "      <td>30.000000</td>\n",
       "      <td>50.799999</td>\n",
       "      <td>16.0</td>\n",
       "      <td>0.26</td>\n",
       "      <td>0.598061</td>\n",
       "      <td>0.492693</td>\n",
       "      <td>41.219212</td>\n",
       "      <td>7241.370605</td>\n",
       "      <td>7451.651066</td>\n",
       "    </tr>\n",
       "    <tr>\n",
       "      <th>9502</th>\n",
       "      <td>25.0</td>\n",
       "      <td>0.25</td>\n",
       "      <td>0.25</td>\n",
       "      <td>0.25</td>\n",
       "      <td>0.25</td>\n",
       "      <td>69.699997</td>\n",
       "      <td>42.099998</td>\n",
       "      <td>58.200001</td>\n",
       "      <td>50.200001</td>\n",
       "      <td>24.299999</td>\n",
       "      <td>41.200001</td>\n",
       "      <td>34.0</td>\n",
       "      <td>0.56</td>\n",
       "      <td>0.422548</td>\n",
       "      <td>0.426437</td>\n",
       "      <td>33.364994</td>\n",
       "      <td>4234.868652</td>\n",
       "      <td>4692.743904</td>\n",
       "    </tr>\n",
       "  </tbody>\n",
       "</table>\n",
       "</div>"
      ],
      "text/plain": [
       "       clonesize  honeybee  bumbles  andrena  osmia  maxofuppertrange  \\\n",
       "id                                                                      \n",
       "12552       25.0      0.50     0.25     0.75   0.63         69.699997   \n",
       "11427       25.0      0.50     0.25     0.63   0.50         86.000000   \n",
       "1754        25.0      0.50     0.25     0.38   0.75         69.699997   \n",
       "7078        12.5      0.25     0.38     0.38   0.63         86.000000   \n",
       "9502        25.0      0.25     0.25     0.25   0.25         69.699997   \n",
       "\n",
       "       minofuppertrange  averageofuppertrange  maxoflowertrange  \\\n",
       "id                                                                \n",
       "12552         42.099998             58.200001         50.200001   \n",
       "11427         52.000000             71.900002         62.000000   \n",
       "1754          42.099998             58.200001         50.200001   \n",
       "7078          52.000000             71.900002         62.000000   \n",
       "9502          42.099998             58.200001         50.200001   \n",
       "\n",
       "       minoflowertrange  averageoflowertrange  rainingdays  \\\n",
       "id                                                           \n",
       "12552         24.299999             41.200001         24.0   \n",
       "11427         30.000000             50.799999         24.0   \n",
       "1754          24.299999             41.200001         34.0   \n",
       "7078          30.000000             50.799999         16.0   \n",
       "9502          24.299999             41.200001         34.0   \n",
       "\n",
       "       averagerainingdays  fruitset  fruitmass      seeds        yield  \\\n",
       "id                                                                       \n",
       "12552                0.39  0.483873   0.417947  34.207397  5381.272461   \n",
       "11427                0.39  0.432912   0.417909  32.789375  4278.763184   \n",
       "1754                 0.56  0.350993   0.377566  28.438202  3511.537842   \n",
       "7078                 0.26  0.598061   0.492693  41.219212  7241.370605   \n",
       "9502                 0.56  0.422548   0.426437  33.364994  4234.868652   \n",
       "\n",
       "       prediction_label  \n",
       "id                       \n",
       "12552       5742.356617  \n",
       "11427       4676.180172  \n",
       "1754        3752.640197  \n",
       "7078        7451.651066  \n",
       "9502        4692.743904  "
      ]
     },
     "execution_count": 143,
     "metadata": {},
     "output_type": "execute_result"
    }
   ],
   "source": [
    "# show predictions df\n",
    "holdout_pred.head()"
   ]
  },
  {
   "cell_type": "code",
   "execution_count": 144,
   "metadata": {},
   "outputs": [
    {
     "data": {
      "text/html": [
       "<div>\n",
       "<style scoped>\n",
       "    .dataframe tbody tr th:only-of-type {\n",
       "        vertical-align: middle;\n",
       "    }\n",
       "\n",
       "    .dataframe tbody tr th {\n",
       "        vertical-align: top;\n",
       "    }\n",
       "\n",
       "    .dataframe thead th {\n",
       "        text-align: right;\n",
       "    }\n",
       "</style>\n",
       "<table border=\"1\" class=\"dataframe\">\n",
       "  <thead>\n",
       "    <tr style=\"text-align: right;\">\n",
       "      <th></th>\n",
       "      <th>clonesize</th>\n",
       "      <th>honeybee</th>\n",
       "      <th>bumbles</th>\n",
       "      <th>andrena</th>\n",
       "      <th>osmia</th>\n",
       "      <th>maxofuppertrange</th>\n",
       "      <th>minofuppertrange</th>\n",
       "      <th>averageofuppertrange</th>\n",
       "      <th>maxoflowertrange</th>\n",
       "      <th>minoflowertrange</th>\n",
       "      <th>averageoflowertrange</th>\n",
       "      <th>rainingdays</th>\n",
       "      <th>averagerainingdays</th>\n",
       "      <th>fruitset</th>\n",
       "      <th>fruitmass</th>\n",
       "      <th>seeds</th>\n",
       "    </tr>\n",
       "    <tr>\n",
       "      <th>id</th>\n",
       "      <th></th>\n",
       "      <th></th>\n",
       "      <th></th>\n",
       "      <th></th>\n",
       "      <th></th>\n",
       "      <th></th>\n",
       "      <th></th>\n",
       "      <th></th>\n",
       "      <th></th>\n",
       "      <th></th>\n",
       "      <th></th>\n",
       "      <th></th>\n",
       "      <th></th>\n",
       "      <th></th>\n",
       "      <th></th>\n",
       "      <th></th>\n",
       "    </tr>\n",
       "  </thead>\n",
       "  <tbody>\n",
       "    <tr>\n",
       "      <th>0</th>\n",
       "      <td>25.0</td>\n",
       "      <td>0.50</td>\n",
       "      <td>0.25</td>\n",
       "      <td>0.75</td>\n",
       "      <td>0.50</td>\n",
       "      <td>69.7</td>\n",
       "      <td>42.1</td>\n",
       "      <td>58.2</td>\n",
       "      <td>50.2</td>\n",
       "      <td>24.3</td>\n",
       "      <td>41.2</td>\n",
       "      <td>24.0</td>\n",
       "      <td>0.39</td>\n",
       "      <td>0.425011</td>\n",
       "      <td>0.417545</td>\n",
       "      <td>32.460887</td>\n",
       "    </tr>\n",
       "    <tr>\n",
       "      <th>1</th>\n",
       "      <td>25.0</td>\n",
       "      <td>0.50</td>\n",
       "      <td>0.25</td>\n",
       "      <td>0.50</td>\n",
       "      <td>0.50</td>\n",
       "      <td>69.7</td>\n",
       "      <td>42.1</td>\n",
       "      <td>58.2</td>\n",
       "      <td>50.2</td>\n",
       "      <td>24.3</td>\n",
       "      <td>41.2</td>\n",
       "      <td>24.0</td>\n",
       "      <td>0.39</td>\n",
       "      <td>0.444908</td>\n",
       "      <td>0.422051</td>\n",
       "      <td>33.858317</td>\n",
       "    </tr>\n",
       "    <tr>\n",
       "      <th>2</th>\n",
       "      <td>12.5</td>\n",
       "      <td>0.25</td>\n",
       "      <td>0.25</td>\n",
       "      <td>0.63</td>\n",
       "      <td>0.63</td>\n",
       "      <td>86.0</td>\n",
       "      <td>52.0</td>\n",
       "      <td>71.9</td>\n",
       "      <td>62.0</td>\n",
       "      <td>30.0</td>\n",
       "      <td>50.8</td>\n",
       "      <td>24.0</td>\n",
       "      <td>0.39</td>\n",
       "      <td>0.552927</td>\n",
       "      <td>0.470853</td>\n",
       "      <td>38.341781</td>\n",
       "    </tr>\n",
       "    <tr>\n",
       "      <th>3</th>\n",
       "      <td>12.5</td>\n",
       "      <td>0.25</td>\n",
       "      <td>0.25</td>\n",
       "      <td>0.63</td>\n",
       "      <td>0.50</td>\n",
       "      <td>77.4</td>\n",
       "      <td>46.8</td>\n",
       "      <td>64.7</td>\n",
       "      <td>55.8</td>\n",
       "      <td>27.0</td>\n",
       "      <td>45.8</td>\n",
       "      <td>24.0</td>\n",
       "      <td>0.39</td>\n",
       "      <td>0.565976</td>\n",
       "      <td>0.478137</td>\n",
       "      <td>39.467561</td>\n",
       "    </tr>\n",
       "    <tr>\n",
       "      <th>4</th>\n",
       "      <td>25.0</td>\n",
       "      <td>0.50</td>\n",
       "      <td>0.25</td>\n",
       "      <td>0.63</td>\n",
       "      <td>0.63</td>\n",
       "      <td>77.4</td>\n",
       "      <td>46.8</td>\n",
       "      <td>64.7</td>\n",
       "      <td>55.8</td>\n",
       "      <td>27.0</td>\n",
       "      <td>45.8</td>\n",
       "      <td>24.0</td>\n",
       "      <td>0.39</td>\n",
       "      <td>0.579677</td>\n",
       "      <td>0.494165</td>\n",
       "      <td>40.484512</td>\n",
       "    </tr>\n",
       "  </tbody>\n",
       "</table>\n",
       "</div>"
      ],
      "text/plain": [
       "    clonesize  honeybee  bumbles  andrena  osmia  maxofuppertrange  \\\n",
       "id                                                                   \n",
       "0        25.0      0.50     0.25     0.75   0.50              69.7   \n",
       "1        25.0      0.50     0.25     0.50   0.50              69.7   \n",
       "2        12.5      0.25     0.25     0.63   0.63              86.0   \n",
       "3        12.5      0.25     0.25     0.63   0.50              77.4   \n",
       "4        25.0      0.50     0.25     0.63   0.63              77.4   \n",
       "\n",
       "    minofuppertrange  averageofuppertrange  maxoflowertrange  \\\n",
       "id                                                             \n",
       "0               42.1                  58.2              50.2   \n",
       "1               42.1                  58.2              50.2   \n",
       "2               52.0                  71.9              62.0   \n",
       "3               46.8                  64.7              55.8   \n",
       "4               46.8                  64.7              55.8   \n",
       "\n",
       "    minoflowertrange  averageoflowertrange  rainingdays  averagerainingdays  \\\n",
       "id                                                                            \n",
       "0               24.3                  41.2         24.0                0.39   \n",
       "1               24.3                  41.2         24.0                0.39   \n",
       "2               30.0                  50.8         24.0                0.39   \n",
       "3               27.0                  45.8         24.0                0.39   \n",
       "4               27.0                  45.8         24.0                0.39   \n",
       "\n",
       "    fruitset  fruitmass      seeds  \n",
       "id                                  \n",
       "0   0.425011   0.417545  32.460887  \n",
       "1   0.444908   0.422051  33.858317  \n",
       "2   0.552927   0.470853  38.341781  \n",
       "3   0.565976   0.478137  39.467561  \n",
       "4   0.579677   0.494165  40.484512  "
      ]
     },
     "execution_count": 144,
     "metadata": {},
     "output_type": "execute_result"
    }
   ],
   "source": [
    "# copy data and drop yield\n",
    "\n",
    "new_data = train_df.copy()\n",
    "new_data.drop('yield', axis=1, inplace=True)\n",
    "new_data.head()"
   ]
  },
  {
   "cell_type": "code",
   "execution_count": 145,
   "metadata": {},
   "outputs": [
    {
     "data": {
      "text/html": [],
      "text/plain": [
       "<IPython.core.display.HTML object>"
      ]
     },
     "metadata": {},
     "output_type": "display_data"
    },
    {
     "data": {
      "text/html": [
       "<div>\n",
       "<style scoped>\n",
       "    .dataframe tbody tr th:only-of-type {\n",
       "        vertical-align: middle;\n",
       "    }\n",
       "\n",
       "    .dataframe tbody tr th {\n",
       "        vertical-align: top;\n",
       "    }\n",
       "\n",
       "    .dataframe thead th {\n",
       "        text-align: right;\n",
       "    }\n",
       "</style>\n",
       "<table border=\"1\" class=\"dataframe\">\n",
       "  <thead>\n",
       "    <tr style=\"text-align: right;\">\n",
       "      <th></th>\n",
       "      <th>clonesize</th>\n",
       "      <th>honeybee</th>\n",
       "      <th>bumbles</th>\n",
       "      <th>andrena</th>\n",
       "      <th>osmia</th>\n",
       "      <th>maxofuppertrange</th>\n",
       "      <th>minofuppertrange</th>\n",
       "      <th>averageofuppertrange</th>\n",
       "      <th>maxoflowertrange</th>\n",
       "      <th>minoflowertrange</th>\n",
       "      <th>averageoflowertrange</th>\n",
       "      <th>rainingdays</th>\n",
       "      <th>averagerainingdays</th>\n",
       "      <th>fruitset</th>\n",
       "      <th>fruitmass</th>\n",
       "      <th>seeds</th>\n",
       "      <th>prediction_label</th>\n",
       "    </tr>\n",
       "    <tr>\n",
       "      <th>id</th>\n",
       "      <th></th>\n",
       "      <th></th>\n",
       "      <th></th>\n",
       "      <th></th>\n",
       "      <th></th>\n",
       "      <th></th>\n",
       "      <th></th>\n",
       "      <th></th>\n",
       "      <th></th>\n",
       "      <th></th>\n",
       "      <th></th>\n",
       "      <th></th>\n",
       "      <th></th>\n",
       "      <th></th>\n",
       "      <th></th>\n",
       "      <th></th>\n",
       "      <th></th>\n",
       "    </tr>\n",
       "  </thead>\n",
       "  <tbody>\n",
       "    <tr>\n",
       "      <th>0</th>\n",
       "      <td>25.0</td>\n",
       "      <td>0.50</td>\n",
       "      <td>0.25</td>\n",
       "      <td>0.75</td>\n",
       "      <td>0.50</td>\n",
       "      <td>69.699997</td>\n",
       "      <td>42.099998</td>\n",
       "      <td>58.200001</td>\n",
       "      <td>50.200001</td>\n",
       "      <td>24.299999</td>\n",
       "      <td>41.200001</td>\n",
       "      <td>24.0</td>\n",
       "      <td>0.39</td>\n",
       "      <td>0.425011</td>\n",
       "      <td>0.417545</td>\n",
       "      <td>32.460888</td>\n",
       "      <td>4709.525261</td>\n",
       "    </tr>\n",
       "    <tr>\n",
       "      <th>1</th>\n",
       "      <td>25.0</td>\n",
       "      <td>0.50</td>\n",
       "      <td>0.25</td>\n",
       "      <td>0.50</td>\n",
       "      <td>0.50</td>\n",
       "      <td>69.699997</td>\n",
       "      <td>42.099998</td>\n",
       "      <td>58.200001</td>\n",
       "      <td>50.200001</td>\n",
       "      <td>24.299999</td>\n",
       "      <td>41.200001</td>\n",
       "      <td>24.0</td>\n",
       "      <td>0.39</td>\n",
       "      <td>0.444908</td>\n",
       "      <td>0.422051</td>\n",
       "      <td>33.858318</td>\n",
       "      <td>5166.903048</td>\n",
       "    </tr>\n",
       "    <tr>\n",
       "      <th>2</th>\n",
       "      <td>12.5</td>\n",
       "      <td>0.25</td>\n",
       "      <td>0.25</td>\n",
       "      <td>0.63</td>\n",
       "      <td>0.63</td>\n",
       "      <td>86.000000</td>\n",
       "      <td>52.000000</td>\n",
       "      <td>71.900002</td>\n",
       "      <td>62.000000</td>\n",
       "      <td>30.000000</td>\n",
       "      <td>50.799999</td>\n",
       "      <td>24.0</td>\n",
       "      <td>0.39</td>\n",
       "      <td>0.552927</td>\n",
       "      <td>0.470853</td>\n",
       "      <td>38.341782</td>\n",
       "      <td>6689.150784</td>\n",
       "    </tr>\n",
       "    <tr>\n",
       "      <th>3</th>\n",
       "      <td>12.5</td>\n",
       "      <td>0.25</td>\n",
       "      <td>0.25</td>\n",
       "      <td>0.63</td>\n",
       "      <td>0.50</td>\n",
       "      <td>77.400002</td>\n",
       "      <td>46.799999</td>\n",
       "      <td>64.699997</td>\n",
       "      <td>55.799999</td>\n",
       "      <td>27.000000</td>\n",
       "      <td>45.799999</td>\n",
       "      <td>24.0</td>\n",
       "      <td>0.39</td>\n",
       "      <td>0.565977</td>\n",
       "      <td>0.478137</td>\n",
       "      <td>39.467560</td>\n",
       "      <td>6899.484156</td>\n",
       "    </tr>\n",
       "    <tr>\n",
       "      <th>4</th>\n",
       "      <td>25.0</td>\n",
       "      <td>0.50</td>\n",
       "      <td>0.25</td>\n",
       "      <td>0.63</td>\n",
       "      <td>0.63</td>\n",
       "      <td>77.400002</td>\n",
       "      <td>46.799999</td>\n",
       "      <td>64.699997</td>\n",
       "      <td>55.799999</td>\n",
       "      <td>27.000000</td>\n",
       "      <td>45.799999</td>\n",
       "      <td>24.0</td>\n",
       "      <td>0.39</td>\n",
       "      <td>0.579677</td>\n",
       "      <td>0.494165</td>\n",
       "      <td>40.484512</td>\n",
       "      <td>7098.212301</td>\n",
       "    </tr>\n",
       "  </tbody>\n",
       "</table>\n",
       "</div>"
      ],
      "text/plain": [
       "    clonesize  honeybee  bumbles  andrena  osmia  maxofuppertrange  \\\n",
       "id                                                                   \n",
       "0        25.0      0.50     0.25     0.75   0.50         69.699997   \n",
       "1        25.0      0.50     0.25     0.50   0.50         69.699997   \n",
       "2        12.5      0.25     0.25     0.63   0.63         86.000000   \n",
       "3        12.5      0.25     0.25     0.63   0.50         77.400002   \n",
       "4        25.0      0.50     0.25     0.63   0.63         77.400002   \n",
       "\n",
       "    minofuppertrange  averageofuppertrange  maxoflowertrange  \\\n",
       "id                                                             \n",
       "0          42.099998             58.200001         50.200001   \n",
       "1          42.099998             58.200001         50.200001   \n",
       "2          52.000000             71.900002         62.000000   \n",
       "3          46.799999             64.699997         55.799999   \n",
       "4          46.799999             64.699997         55.799999   \n",
       "\n",
       "    minoflowertrange  averageoflowertrange  rainingdays  averagerainingdays  \\\n",
       "id                                                                            \n",
       "0          24.299999             41.200001         24.0                0.39   \n",
       "1          24.299999             41.200001         24.0                0.39   \n",
       "2          30.000000             50.799999         24.0                0.39   \n",
       "3          27.000000             45.799999         24.0                0.39   \n",
       "4          27.000000             45.799999         24.0                0.39   \n",
       "\n",
       "    fruitset  fruitmass      seeds  prediction_label  \n",
       "id                                                    \n",
       "0   0.425011   0.417545  32.460888       4709.525261  \n",
       "1   0.444908   0.422051  33.858318       5166.903048  \n",
       "2   0.552927   0.470853  38.341782       6689.150784  \n",
       "3   0.565977   0.478137  39.467560       6899.484156  \n",
       "4   0.579677   0.494165  40.484512       7098.212301  "
      ]
     },
     "execution_count": 145,
     "metadata": {},
     "output_type": "execute_result"
    }
   ],
   "source": [
    "# predict model on new_data\n",
    "predictions = predict_model(best, data = new_data)\n",
    "predictions.head()"
   ]
  },
  {
   "cell_type": "code",
   "execution_count": 146,
   "metadata": {},
   "outputs": [
    {
     "name": "stdout",
     "output_type": "stream",
     "text": [
      "Transformation Pipeline and Model Successfully Saved\n"
     ]
    },
    {
     "data": {
      "text/plain": [
       "(Pipeline(memory=FastMemory(location=C:\\Users\\panda\\AppData\\Local\\Temp\\joblib),\n",
       "          steps=[('numerical_imputer',\n",
       "                  TransformerWrapper(include=['clonesize', 'honeybee', 'bumbles',\n",
       "                                              'andrena', 'osmia',\n",
       "                                              'maxofuppertrange',\n",
       "                                              'minofuppertrange',\n",
       "                                              'averageofuppertrange',\n",
       "                                              'maxoflowertrange',\n",
       "                                              'minoflowertrange',\n",
       "                                              'averageoflowertrange',\n",
       "                                              'rainingdays',\n",
       "                                              'averagerainingdays', 'fruitset',\n",
       "                                              'fruitmass', 'seeds'],\n",
       "                                     transformer=SimpleImputer())),\n",
       "                 ('categorical_imputer',\n",
       "                  TransformerWrapper(include=[],\n",
       "                                     transformer=SimpleImputer(strategy='most_frequent'))),\n",
       "                 ('trained_model', GradientBoostingRegressor(random_state=123))]),\n",
       " 'blueberries_pycaret.pkl')"
      ]
     },
     "execution_count": 146,
     "metadata": {},
     "output_type": "execute_result"
    }
   ],
   "source": [
    "# save pipeline\n",
    "save_model(best, 'blueberries_pycaret')"
   ]
  },
  {
   "cell_type": "code",
   "execution_count": 147,
   "metadata": {},
   "outputs": [
    {
     "name": "stdout",
     "output_type": "stream",
     "text": [
      "Transformation Pipeline and Model Successfully Loaded\n"
     ]
    },
    {
     "data": {
      "text/html": [
       "<style>#sk-container-id-3 {color: black;background-color: white;}#sk-container-id-3 pre{padding: 0;}#sk-container-id-3 div.sk-toggleable {background-color: white;}#sk-container-id-3 label.sk-toggleable__label {cursor: pointer;display: block;width: 100%;margin-bottom: 0;padding: 0.3em;box-sizing: border-box;text-align: center;}#sk-container-id-3 label.sk-toggleable__label-arrow:before {content: \"▸\";float: left;margin-right: 0.25em;color: #696969;}#sk-container-id-3 label.sk-toggleable__label-arrow:hover:before {color: black;}#sk-container-id-3 div.sk-estimator:hover label.sk-toggleable__label-arrow:before {color: black;}#sk-container-id-3 div.sk-toggleable__content {max-height: 0;max-width: 0;overflow: hidden;text-align: left;background-color: #f0f8ff;}#sk-container-id-3 div.sk-toggleable__content pre {margin: 0.2em;color: black;border-radius: 0.25em;background-color: #f0f8ff;}#sk-container-id-3 input.sk-toggleable__control:checked~div.sk-toggleable__content {max-height: 200px;max-width: 100%;overflow: auto;}#sk-container-id-3 input.sk-toggleable__control:checked~label.sk-toggleable__label-arrow:before {content: \"▾\";}#sk-container-id-3 div.sk-estimator input.sk-toggleable__control:checked~label.sk-toggleable__label {background-color: #d4ebff;}#sk-container-id-3 div.sk-label input.sk-toggleable__control:checked~label.sk-toggleable__label {background-color: #d4ebff;}#sk-container-id-3 input.sk-hidden--visually {border: 0;clip: rect(1px 1px 1px 1px);clip: rect(1px, 1px, 1px, 1px);height: 1px;margin: -1px;overflow: hidden;padding: 0;position: absolute;width: 1px;}#sk-container-id-3 div.sk-estimator {font-family: monospace;background-color: #f0f8ff;border: 1px dotted black;border-radius: 0.25em;box-sizing: border-box;margin-bottom: 0.5em;}#sk-container-id-3 div.sk-estimator:hover {background-color: #d4ebff;}#sk-container-id-3 div.sk-parallel-item::after {content: \"\";width: 100%;border-bottom: 1px solid gray;flex-grow: 1;}#sk-container-id-3 div.sk-label:hover label.sk-toggleable__label {background-color: #d4ebff;}#sk-container-id-3 div.sk-serial::before {content: \"\";position: absolute;border-left: 1px solid gray;box-sizing: border-box;top: 0;bottom: 0;left: 50%;z-index: 0;}#sk-container-id-3 div.sk-serial {display: flex;flex-direction: column;align-items: center;background-color: white;padding-right: 0.2em;padding-left: 0.2em;position: relative;}#sk-container-id-3 div.sk-item {position: relative;z-index: 1;}#sk-container-id-3 div.sk-parallel {display: flex;align-items: stretch;justify-content: center;background-color: white;position: relative;}#sk-container-id-3 div.sk-item::before, #sk-container-id-3 div.sk-parallel-item::before {content: \"\";position: absolute;border-left: 1px solid gray;box-sizing: border-box;top: 0;bottom: 0;left: 50%;z-index: -1;}#sk-container-id-3 div.sk-parallel-item {display: flex;flex-direction: column;z-index: 1;position: relative;background-color: white;}#sk-container-id-3 div.sk-parallel-item:first-child::after {align-self: flex-end;width: 50%;}#sk-container-id-3 div.sk-parallel-item:last-child::after {align-self: flex-start;width: 50%;}#sk-container-id-3 div.sk-parallel-item:only-child::after {width: 0;}#sk-container-id-3 div.sk-dashed-wrapped {border: 1px dashed gray;margin: 0 0.4em 0.5em 0.4em;box-sizing: border-box;padding-bottom: 0.4em;background-color: white;}#sk-container-id-3 div.sk-label label {font-family: monospace;font-weight: bold;display: inline-block;line-height: 1.2em;}#sk-container-id-3 div.sk-label-container {text-align: center;}#sk-container-id-3 div.sk-container {/* jupyter's `normalize.less` sets `[hidden] { display: none; }` but bootstrap.min.css set `[hidden] { display: none !important; }` so we also need the `!important` here to be able to override the default hidden behavior on the sphinx rendered scikit-learn.org. See: https://github.com/scikit-learn/scikit-learn/issues/21755 */display: inline-block !important;position: relative;}#sk-container-id-3 div.sk-text-repr-fallback {display: none;}</style><div id=\"sk-container-id-3\" class=\"sk-top-container\"><div class=\"sk-text-repr-fallback\"><pre>Pipeline(memory=FastMemory(location=C:\\Users\\panda\\AppData\\Local\\Temp\\joblib),\n",
       "         steps=[(&#x27;numerical_imputer&#x27;,\n",
       "                 TransformerWrapper(include=[&#x27;clonesize&#x27;, &#x27;honeybee&#x27;, &#x27;bumbles&#x27;,\n",
       "                                             &#x27;andrena&#x27;, &#x27;osmia&#x27;,\n",
       "                                             &#x27;maxofuppertrange&#x27;,\n",
       "                                             &#x27;minofuppertrange&#x27;,\n",
       "                                             &#x27;averageofuppertrange&#x27;,\n",
       "                                             &#x27;maxoflowertrange&#x27;,\n",
       "                                             &#x27;minoflowertrange&#x27;,\n",
       "                                             &#x27;averageoflowertrange&#x27;,\n",
       "                                             &#x27;rainingdays&#x27;,\n",
       "                                             &#x27;averagerainingdays&#x27;, &#x27;fruitset&#x27;,\n",
       "                                             &#x27;fruitmass&#x27;, &#x27;seeds&#x27;],\n",
       "                                    transformer=SimpleImputer())),\n",
       "                (&#x27;categorical_imputer&#x27;,\n",
       "                 TransformerWrapper(include=[],\n",
       "                                    transformer=SimpleImputer(strategy=&#x27;most_frequent&#x27;))),\n",
       "                (&#x27;trained_model&#x27;, GradientBoostingRegressor(random_state=123))])</pre><b>In a Jupyter environment, please rerun this cell to show the HTML representation or trust the notebook. <br />On GitHub, the HTML representation is unable to render, please try loading this page with nbviewer.org.</b></div><div class=\"sk-container\" hidden><div class=\"sk-item sk-dashed-wrapped\"><div class=\"sk-label-container\"><div class=\"sk-label sk-toggleable\"><input class=\"sk-toggleable__control sk-hidden--visually\" id=\"sk-estimator-id-15\" type=\"checkbox\" ><label for=\"sk-estimator-id-15\" class=\"sk-toggleable__label sk-toggleable__label-arrow\">Pipeline</label><div class=\"sk-toggleable__content\"><pre>Pipeline(memory=FastMemory(location=C:\\Users\\panda\\AppData\\Local\\Temp\\joblib),\n",
       "         steps=[(&#x27;numerical_imputer&#x27;,\n",
       "                 TransformerWrapper(include=[&#x27;clonesize&#x27;, &#x27;honeybee&#x27;, &#x27;bumbles&#x27;,\n",
       "                                             &#x27;andrena&#x27;, &#x27;osmia&#x27;,\n",
       "                                             &#x27;maxofuppertrange&#x27;,\n",
       "                                             &#x27;minofuppertrange&#x27;,\n",
       "                                             &#x27;averageofuppertrange&#x27;,\n",
       "                                             &#x27;maxoflowertrange&#x27;,\n",
       "                                             &#x27;minoflowertrange&#x27;,\n",
       "                                             &#x27;averageoflowertrange&#x27;,\n",
       "                                             &#x27;rainingdays&#x27;,\n",
       "                                             &#x27;averagerainingdays&#x27;, &#x27;fruitset&#x27;,\n",
       "                                             &#x27;fruitmass&#x27;, &#x27;seeds&#x27;],\n",
       "                                    transformer=SimpleImputer())),\n",
       "                (&#x27;categorical_imputer&#x27;,\n",
       "                 TransformerWrapper(include=[],\n",
       "                                    transformer=SimpleImputer(strategy=&#x27;most_frequent&#x27;))),\n",
       "                (&#x27;trained_model&#x27;, GradientBoostingRegressor(random_state=123))])</pre></div></div></div><div class=\"sk-serial\"><div class=\"sk-item sk-dashed-wrapped\"><div class=\"sk-label-container\"><div class=\"sk-label sk-toggleable\"><input class=\"sk-toggleable__control sk-hidden--visually\" id=\"sk-estimator-id-16\" type=\"checkbox\" ><label for=\"sk-estimator-id-16\" class=\"sk-toggleable__label sk-toggleable__label-arrow\">numerical_imputer: TransformerWrapper</label><div class=\"sk-toggleable__content\"><pre>TransformerWrapper(include=[&#x27;clonesize&#x27;, &#x27;honeybee&#x27;, &#x27;bumbles&#x27;, &#x27;andrena&#x27;,\n",
       "                            &#x27;osmia&#x27;, &#x27;maxofuppertrange&#x27;, &#x27;minofuppertrange&#x27;,\n",
       "                            &#x27;averageofuppertrange&#x27;, &#x27;maxoflowertrange&#x27;,\n",
       "                            &#x27;minoflowertrange&#x27;, &#x27;averageoflowertrange&#x27;,\n",
       "                            &#x27;rainingdays&#x27;, &#x27;averagerainingdays&#x27;, &#x27;fruitset&#x27;,\n",
       "                            &#x27;fruitmass&#x27;, &#x27;seeds&#x27;],\n",
       "                   transformer=SimpleImputer())</pre></div></div></div><div class=\"sk-parallel\"><div class=\"sk-parallel-item\"><div class=\"sk-item\"><div class=\"sk-label-container\"><div class=\"sk-label sk-toggleable\"><input class=\"sk-toggleable__control sk-hidden--visually\" id=\"sk-estimator-id-17\" type=\"checkbox\" ><label for=\"sk-estimator-id-17\" class=\"sk-toggleable__label sk-toggleable__label-arrow\">transformer: SimpleImputer</label><div class=\"sk-toggleable__content\"><pre>SimpleImputer()</pre></div></div></div><div class=\"sk-serial\"><div class=\"sk-item\"><div class=\"sk-estimator sk-toggleable\"><input class=\"sk-toggleable__control sk-hidden--visually\" id=\"sk-estimator-id-18\" type=\"checkbox\" ><label for=\"sk-estimator-id-18\" class=\"sk-toggleable__label sk-toggleable__label-arrow\">SimpleImputer</label><div class=\"sk-toggleable__content\"><pre>SimpleImputer()</pre></div></div></div></div></div></div></div></div><div class=\"sk-item sk-dashed-wrapped\"><div class=\"sk-label-container\"><div class=\"sk-label sk-toggleable\"><input class=\"sk-toggleable__control sk-hidden--visually\" id=\"sk-estimator-id-19\" type=\"checkbox\" ><label for=\"sk-estimator-id-19\" class=\"sk-toggleable__label sk-toggleable__label-arrow\">categorical_imputer: TransformerWrapper</label><div class=\"sk-toggleable__content\"><pre>TransformerWrapper(include=[],\n",
       "                   transformer=SimpleImputer(strategy=&#x27;most_frequent&#x27;))</pre></div></div></div><div class=\"sk-parallel\"><div class=\"sk-parallel-item\"><div class=\"sk-item\"><div class=\"sk-label-container\"><div class=\"sk-label sk-toggleable\"><input class=\"sk-toggleable__control sk-hidden--visually\" id=\"sk-estimator-id-20\" type=\"checkbox\" ><label for=\"sk-estimator-id-20\" class=\"sk-toggleable__label sk-toggleable__label-arrow\">transformer: SimpleImputer</label><div class=\"sk-toggleable__content\"><pre>SimpleImputer(strategy=&#x27;most_frequent&#x27;)</pre></div></div></div><div class=\"sk-serial\"><div class=\"sk-item\"><div class=\"sk-estimator sk-toggleable\"><input class=\"sk-toggleable__control sk-hidden--visually\" id=\"sk-estimator-id-21\" type=\"checkbox\" ><label for=\"sk-estimator-id-21\" class=\"sk-toggleable__label sk-toggleable__label-arrow\">SimpleImputer</label><div class=\"sk-toggleable__content\"><pre>SimpleImputer(strategy=&#x27;most_frequent&#x27;)</pre></div></div></div></div></div></div></div></div><div class=\"sk-item\"><div class=\"sk-estimator sk-toggleable\"><input class=\"sk-toggleable__control sk-hidden--visually\" id=\"sk-estimator-id-22\" type=\"checkbox\" ><label for=\"sk-estimator-id-22\" class=\"sk-toggleable__label sk-toggleable__label-arrow\">GradientBoostingRegressor</label><div class=\"sk-toggleable__content\"><pre>GradientBoostingRegressor(random_state=123)</pre></div></div></div></div></div></div></div>"
      ],
      "text/plain": [
       "Pipeline(memory=FastMemory(location=C:\\Users\\panda\\AppData\\Local\\Temp\\joblib),\n",
       "         steps=[('numerical_imputer',\n",
       "                 TransformerWrapper(include=['clonesize', 'honeybee', 'bumbles',\n",
       "                                             'andrena', 'osmia',\n",
       "                                             'maxofuppertrange',\n",
       "                                             'minofuppertrange',\n",
       "                                             'averageofuppertrange',\n",
       "                                             'maxoflowertrange',\n",
       "                                             'minoflowertrange',\n",
       "                                             'averageoflowertrange',\n",
       "                                             'rainingdays',\n",
       "                                             'averagerainingdays', 'fruitset',\n",
       "                                             'fruitmass', 'seeds'],\n",
       "                                    transformer=SimpleImputer())),\n",
       "                ('categorical_imputer',\n",
       "                 TransformerWrapper(include=[],\n",
       "                                    transformer=SimpleImputer(strategy='most_frequent'))),\n",
       "                ('trained_model', GradientBoostingRegressor(random_state=123))])"
      ]
     },
     "execution_count": 147,
     "metadata": {},
     "output_type": "execute_result"
    }
   ],
   "source": [
    "# load pipeline\n",
    "loaded_best_pipeline = load_model('blueberries_pycaret')\n",
    "loaded_best_pipeline"
   ]
  },
  {
   "attachments": {},
   "cell_type": "markdown",
   "metadata": {},
   "source": [
    "___"
   ]
  },
  {
   "attachments": {},
   "cell_type": "markdown",
   "metadata": {},
   "source": [
    "## Creating Predictions"
   ]
  },
  {
   "attachments": {},
   "cell_type": "markdown",
   "metadata": {},
   "source": [
    "___"
   ]
  },
  {
   "attachments": {},
   "cell_type": "markdown",
   "metadata": {},
   "source": [
    "#### Re-fit to full Training dataset (no Train-Test-Split)"
   ]
  },
  {
   "cell_type": "code",
   "execution_count": 148,
   "metadata": {},
   "outputs": [
    {
     "data": {
      "text/html": [
       "<style>#sk-container-id-4 {color: black;background-color: white;}#sk-container-id-4 pre{padding: 0;}#sk-container-id-4 div.sk-toggleable {background-color: white;}#sk-container-id-4 label.sk-toggleable__label {cursor: pointer;display: block;width: 100%;margin-bottom: 0;padding: 0.3em;box-sizing: border-box;text-align: center;}#sk-container-id-4 label.sk-toggleable__label-arrow:before {content: \"▸\";float: left;margin-right: 0.25em;color: #696969;}#sk-container-id-4 label.sk-toggleable__label-arrow:hover:before {color: black;}#sk-container-id-4 div.sk-estimator:hover label.sk-toggleable__label-arrow:before {color: black;}#sk-container-id-4 div.sk-toggleable__content {max-height: 0;max-width: 0;overflow: hidden;text-align: left;background-color: #f0f8ff;}#sk-container-id-4 div.sk-toggleable__content pre {margin: 0.2em;color: black;border-radius: 0.25em;background-color: #f0f8ff;}#sk-container-id-4 input.sk-toggleable__control:checked~div.sk-toggleable__content {max-height: 200px;max-width: 100%;overflow: auto;}#sk-container-id-4 input.sk-toggleable__control:checked~label.sk-toggleable__label-arrow:before {content: \"▾\";}#sk-container-id-4 div.sk-estimator input.sk-toggleable__control:checked~label.sk-toggleable__label {background-color: #d4ebff;}#sk-container-id-4 div.sk-label input.sk-toggleable__control:checked~label.sk-toggleable__label {background-color: #d4ebff;}#sk-container-id-4 input.sk-hidden--visually {border: 0;clip: rect(1px 1px 1px 1px);clip: rect(1px, 1px, 1px, 1px);height: 1px;margin: -1px;overflow: hidden;padding: 0;position: absolute;width: 1px;}#sk-container-id-4 div.sk-estimator {font-family: monospace;background-color: #f0f8ff;border: 1px dotted black;border-radius: 0.25em;box-sizing: border-box;margin-bottom: 0.5em;}#sk-container-id-4 div.sk-estimator:hover {background-color: #d4ebff;}#sk-container-id-4 div.sk-parallel-item::after {content: \"\";width: 100%;border-bottom: 1px solid gray;flex-grow: 1;}#sk-container-id-4 div.sk-label:hover label.sk-toggleable__label {background-color: #d4ebff;}#sk-container-id-4 div.sk-serial::before {content: \"\";position: absolute;border-left: 1px solid gray;box-sizing: border-box;top: 0;bottom: 0;left: 50%;z-index: 0;}#sk-container-id-4 div.sk-serial {display: flex;flex-direction: column;align-items: center;background-color: white;padding-right: 0.2em;padding-left: 0.2em;position: relative;}#sk-container-id-4 div.sk-item {position: relative;z-index: 1;}#sk-container-id-4 div.sk-parallel {display: flex;align-items: stretch;justify-content: center;background-color: white;position: relative;}#sk-container-id-4 div.sk-item::before, #sk-container-id-4 div.sk-parallel-item::before {content: \"\";position: absolute;border-left: 1px solid gray;box-sizing: border-box;top: 0;bottom: 0;left: 50%;z-index: -1;}#sk-container-id-4 div.sk-parallel-item {display: flex;flex-direction: column;z-index: 1;position: relative;background-color: white;}#sk-container-id-4 div.sk-parallel-item:first-child::after {align-self: flex-end;width: 50%;}#sk-container-id-4 div.sk-parallel-item:last-child::after {align-self: flex-start;width: 50%;}#sk-container-id-4 div.sk-parallel-item:only-child::after {width: 0;}#sk-container-id-4 div.sk-dashed-wrapped {border: 1px dashed gray;margin: 0 0.4em 0.5em 0.4em;box-sizing: border-box;padding-bottom: 0.4em;background-color: white;}#sk-container-id-4 div.sk-label label {font-family: monospace;font-weight: bold;display: inline-block;line-height: 1.2em;}#sk-container-id-4 div.sk-label-container {text-align: center;}#sk-container-id-4 div.sk-container {/* jupyter's `normalize.less` sets `[hidden] { display: none; }` but bootstrap.min.css set `[hidden] { display: none !important; }` so we also need the `!important` here to be able to override the default hidden behavior on the sphinx rendered scikit-learn.org. See: https://github.com/scikit-learn/scikit-learn/issues/21755 */display: inline-block !important;position: relative;}#sk-container-id-4 div.sk-text-repr-fallback {display: none;}</style><div id=\"sk-container-id-4\" class=\"sk-top-container\"><div class=\"sk-text-repr-fallback\"><pre>VotingRegressor(estimators=[(&#x27;lr&#x27;, LinearRegression()),\n",
       "                            (&#x27;rs_rf&#x27;,\n",
       "                             RandomizedSearchCV(cv=5,\n",
       "                                                estimator=RandomForestRegressor(max_depth=20,\n",
       "                                                                                max_features=4,\n",
       "                                                                                n_estimators=10),\n",
       "                                                n_iter=20, n_jobs=6,\n",
       "                                                param_distributions={&#x27;max_depth&#x27;: [None,\n",
       "                                                                                   10,\n",
       "                                                                                   20],\n",
       "                                                                     &#x27;max_samples&#x27;: [0.1,\n",
       "                                                                                     0.5],\n",
       "                                                                     &#x27;n_estimators&#x27;: [10,\n",
       "                                                                                      1500,\n",
       "                                                                                      2000]})),\n",
       "                            (&#x27;rs_gb&#x27;,\n",
       "                             RandomizedSearchCV(cv=5,\n",
       "                                                estimator=GradientBoostingRegressor(learning_rate=0.05,\n",
       "                                                                                    n_estimators=500,\n",
       "                                                                                    random_state=42),\n",
       "                                                n_iter=20, n_jobs=6,\n",
       "                                                param_distributions={&#x27;learning_rate&#x27;: [0.01,\n",
       "                                                                                       0.05,\n",
       "                                                                                       0.1,\n",
       "                                                                                       0.5,\n",
       "                                                                                       1],\n",
       "                                                                     &#x27;n_estimators&#x27;: [10,\n",
       "                                                                                      20,\n",
       "                                                                                      50,\n",
       "                                                                                      100,\n",
       "                                                                                      200,\n",
       "                                                                                      300,\n",
       "                                                                                      400]}))],\n",
       "                n_jobs=6)</pre><b>In a Jupyter environment, please rerun this cell to show the HTML representation or trust the notebook. <br />On GitHub, the HTML representation is unable to render, please try loading this page with nbviewer.org.</b></div><div class=\"sk-container\" hidden><div class=\"sk-item sk-dashed-wrapped\"><div class=\"sk-label-container\"><div class=\"sk-label sk-toggleable\"><input class=\"sk-toggleable__control sk-hidden--visually\" id=\"sk-estimator-id-23\" type=\"checkbox\" ><label for=\"sk-estimator-id-23\" class=\"sk-toggleable__label sk-toggleable__label-arrow\">VotingRegressor</label><div class=\"sk-toggleable__content\"><pre>VotingRegressor(estimators=[(&#x27;lr&#x27;, LinearRegression()),\n",
       "                            (&#x27;rs_rf&#x27;,\n",
       "                             RandomizedSearchCV(cv=5,\n",
       "                                                estimator=RandomForestRegressor(max_depth=20,\n",
       "                                                                                max_features=4,\n",
       "                                                                                n_estimators=10),\n",
       "                                                n_iter=20, n_jobs=6,\n",
       "                                                param_distributions={&#x27;max_depth&#x27;: [None,\n",
       "                                                                                   10,\n",
       "                                                                                   20],\n",
       "                                                                     &#x27;max_samples&#x27;: [0.1,\n",
       "                                                                                     0.5],\n",
       "                                                                     &#x27;n_estimators&#x27;: [10,\n",
       "                                                                                      1500,\n",
       "                                                                                      2000]})),\n",
       "                            (&#x27;rs_gb&#x27;,\n",
       "                             RandomizedSearchCV(cv=5,\n",
       "                                                estimator=GradientBoostingRegressor(learning_rate=0.05,\n",
       "                                                                                    n_estimators=500,\n",
       "                                                                                    random_state=42),\n",
       "                                                n_iter=20, n_jobs=6,\n",
       "                                                param_distributions={&#x27;learning_rate&#x27;: [0.01,\n",
       "                                                                                       0.05,\n",
       "                                                                                       0.1,\n",
       "                                                                                       0.5,\n",
       "                                                                                       1],\n",
       "                                                                     &#x27;n_estimators&#x27;: [10,\n",
       "                                                                                      20,\n",
       "                                                                                      50,\n",
       "                                                                                      100,\n",
       "                                                                                      200,\n",
       "                                                                                      300,\n",
       "                                                                                      400]}))],\n",
       "                n_jobs=6)</pre></div></div></div><div class=\"sk-parallel\"><div class=\"sk-parallel-item\"><div class=\"sk-item\"><div class=\"sk-label-container\"><div class=\"sk-label sk-toggleable\"><label>lr</label></div></div><div class=\"sk-serial\"><div class=\"sk-item\"><div class=\"sk-estimator sk-toggleable\"><input class=\"sk-toggleable__control sk-hidden--visually\" id=\"sk-estimator-id-24\" type=\"checkbox\" ><label for=\"sk-estimator-id-24\" class=\"sk-toggleable__label sk-toggleable__label-arrow\">LinearRegression</label><div class=\"sk-toggleable__content\"><pre>LinearRegression()</pre></div></div></div></div></div></div><div class=\"sk-parallel-item\"><div class=\"sk-item\"><div class=\"sk-label-container\"><div class=\"sk-label sk-toggleable\"><label>rs_rf</label></div></div><div class=\"sk-serial\"><div class=\"sk-item sk-dashed-wrapped\"><div class=\"sk-parallel\"><div class=\"sk-parallel-item\"><div class=\"sk-item\"><div class=\"sk-label-container\"><div class=\"sk-label sk-toggleable\"><input class=\"sk-toggleable__control sk-hidden--visually\" id=\"sk-estimator-id-25\" type=\"checkbox\" ><label for=\"sk-estimator-id-25\" class=\"sk-toggleable__label sk-toggleable__label-arrow\">estimator: RandomForestRegressor</label><div class=\"sk-toggleable__content\"><pre>RandomForestRegressor(max_depth=20, max_features=4, n_estimators=10)</pre></div></div></div><div class=\"sk-serial\"><div class=\"sk-item\"><div class=\"sk-estimator sk-toggleable\"><input class=\"sk-toggleable__control sk-hidden--visually\" id=\"sk-estimator-id-26\" type=\"checkbox\" ><label for=\"sk-estimator-id-26\" class=\"sk-toggleable__label sk-toggleable__label-arrow\">RandomForestRegressor</label><div class=\"sk-toggleable__content\"><pre>RandomForestRegressor(max_depth=20, max_features=4, n_estimators=10)</pre></div></div></div></div></div></div></div></div></div></div></div><div class=\"sk-parallel-item\"><div class=\"sk-item\"><div class=\"sk-label-container\"><div class=\"sk-label sk-toggleable\"><label>rs_gb</label></div></div><div class=\"sk-serial\"><div class=\"sk-item sk-dashed-wrapped\"><div class=\"sk-parallel\"><div class=\"sk-parallel-item\"><div class=\"sk-item\"><div class=\"sk-label-container\"><div class=\"sk-label sk-toggleable\"><input class=\"sk-toggleable__control sk-hidden--visually\" id=\"sk-estimator-id-27\" type=\"checkbox\" ><label for=\"sk-estimator-id-27\" class=\"sk-toggleable__label sk-toggleable__label-arrow\">estimator: GradientBoostingRegressor</label><div class=\"sk-toggleable__content\"><pre>GradientBoostingRegressor(learning_rate=0.05, n_estimators=500, random_state=42)</pre></div></div></div><div class=\"sk-serial\"><div class=\"sk-item\"><div class=\"sk-estimator sk-toggleable\"><input class=\"sk-toggleable__control sk-hidden--visually\" id=\"sk-estimator-id-28\" type=\"checkbox\" ><label for=\"sk-estimator-id-28\" class=\"sk-toggleable__label sk-toggleable__label-arrow\">GradientBoostingRegressor</label><div class=\"sk-toggleable__content\"><pre>GradientBoostingRegressor(learning_rate=0.05, n_estimators=500, random_state=42)</pre></div></div></div></div></div></div></div></div></div></div></div></div></div></div></div>"
      ],
      "text/plain": [
       "VotingRegressor(estimators=[('lr', LinearRegression()),\n",
       "                            ('rs_rf',\n",
       "                             RandomizedSearchCV(cv=5,\n",
       "                                                estimator=RandomForestRegressor(max_depth=20,\n",
       "                                                                                max_features=4,\n",
       "                                                                                n_estimators=10),\n",
       "                                                n_iter=20, n_jobs=6,\n",
       "                                                param_distributions={'max_depth': [None,\n",
       "                                                                                   10,\n",
       "                                                                                   20],\n",
       "                                                                     'max_samples': [0.1,\n",
       "                                                                                     0.5],\n",
       "                                                                     'n_estimators': [10,\n",
       "                                                                                      1500,\n",
       "                                                                                      2000]})),\n",
       "                            ('rs_gb',\n",
       "                             RandomizedSearchCV(cv=5,\n",
       "                                                estimator=GradientBoostingRegressor(learning_rate=0.05,\n",
       "                                                                                    n_estimators=500,\n",
       "                                                                                    random_state=42),\n",
       "                                                n_iter=20, n_jobs=6,\n",
       "                                                param_distributions={'learning_rate': [0.01,\n",
       "                                                                                       0.05,\n",
       "                                                                                       0.1,\n",
       "                                                                                       0.5,\n",
       "                                                                                       1],\n",
       "                                                                     'n_estimators': [10,\n",
       "                                                                                      20,\n",
       "                                                                                      50,\n",
       "                                                                                      100,\n",
       "                                                                                      200,\n",
       "                                                                                      300,\n",
       "                                                                                      400]}))],\n",
       "                n_jobs=6)"
      ]
     },
     "execution_count": 148,
     "metadata": {},
     "output_type": "execute_result"
    }
   ],
   "source": [
    "vc.fit(X, y)"
   ]
  },
  {
   "cell_type": "code",
   "execution_count": 149,
   "metadata": {},
   "outputs": [
    {
     "data": {
      "text/plain": [
       "0.8450783060492558"
      ]
     },
     "execution_count": 149,
     "metadata": {},
     "output_type": "execute_result"
    }
   ],
   "source": [
    "vc.score(X, y)"
   ]
  },
  {
   "attachments": {},
   "cell_type": "markdown",
   "metadata": {},
   "source": [
    "#### Testing"
   ]
  },
  {
   "cell_type": "code",
   "execution_count": 150,
   "metadata": {},
   "outputs": [
    {
     "data": {
      "text/html": [
       "<div>\n",
       "<style scoped>\n",
       "    .dataframe tbody tr th:only-of-type {\n",
       "        vertical-align: middle;\n",
       "    }\n",
       "\n",
       "    .dataframe tbody tr th {\n",
       "        vertical-align: top;\n",
       "    }\n",
       "\n",
       "    .dataframe thead th {\n",
       "        text-align: right;\n",
       "    }\n",
       "</style>\n",
       "<table border=\"1\" class=\"dataframe\">\n",
       "  <thead>\n",
       "    <tr style=\"text-align: right;\">\n",
       "      <th></th>\n",
       "      <th>clonesize</th>\n",
       "      <th>honeybee</th>\n",
       "      <th>bumbles</th>\n",
       "      <th>andrena</th>\n",
       "      <th>osmia</th>\n",
       "      <th>maxofuppertrange</th>\n",
       "      <th>minofuppertrange</th>\n",
       "      <th>averageofuppertrange</th>\n",
       "      <th>maxoflowertrange</th>\n",
       "      <th>minoflowertrange</th>\n",
       "      <th>averageoflowertrange</th>\n",
       "      <th>rainingdays</th>\n",
       "      <th>averagerainingdays</th>\n",
       "      <th>fruitset</th>\n",
       "      <th>fruitmass</th>\n",
       "      <th>seeds</th>\n",
       "    </tr>\n",
       "    <tr>\n",
       "      <th>id</th>\n",
       "      <th></th>\n",
       "      <th></th>\n",
       "      <th></th>\n",
       "      <th></th>\n",
       "      <th></th>\n",
       "      <th></th>\n",
       "      <th></th>\n",
       "      <th></th>\n",
       "      <th></th>\n",
       "      <th></th>\n",
       "      <th></th>\n",
       "      <th></th>\n",
       "      <th></th>\n",
       "      <th></th>\n",
       "      <th></th>\n",
       "      <th></th>\n",
       "    </tr>\n",
       "  </thead>\n",
       "  <tbody>\n",
       "    <tr>\n",
       "      <th>15289</th>\n",
       "      <td>25.0</td>\n",
       "      <td>0.25</td>\n",
       "      <td>0.25</td>\n",
       "      <td>0.25</td>\n",
       "      <td>0.25</td>\n",
       "      <td>86.0</td>\n",
       "      <td>52.0</td>\n",
       "      <td>71.9</td>\n",
       "      <td>62.0</td>\n",
       "      <td>30.0</td>\n",
       "      <td>50.8</td>\n",
       "      <td>24.0</td>\n",
       "      <td>0.39</td>\n",
       "      <td>0.399367</td>\n",
       "      <td>0.408088</td>\n",
       "      <td>31.394569</td>\n",
       "    </tr>\n",
       "    <tr>\n",
       "      <th>15290</th>\n",
       "      <td>12.5</td>\n",
       "      <td>0.25</td>\n",
       "      <td>0.25</td>\n",
       "      <td>0.75</td>\n",
       "      <td>0.63</td>\n",
       "      <td>94.6</td>\n",
       "      <td>57.2</td>\n",
       "      <td>79.0</td>\n",
       "      <td>68.2</td>\n",
       "      <td>33.0</td>\n",
       "      <td>55.9</td>\n",
       "      <td>1.0</td>\n",
       "      <td>0.10</td>\n",
       "      <td>0.488048</td>\n",
       "      <td>0.442866</td>\n",
       "      <td>36.846956</td>\n",
       "    </tr>\n",
       "    <tr>\n",
       "      <th>15291</th>\n",
       "      <td>12.5</td>\n",
       "      <td>0.25</td>\n",
       "      <td>0.25</td>\n",
       "      <td>0.63</td>\n",
       "      <td>0.63</td>\n",
       "      <td>86.0</td>\n",
       "      <td>52.0</td>\n",
       "      <td>71.9</td>\n",
       "      <td>62.0</td>\n",
       "      <td>30.0</td>\n",
       "      <td>50.8</td>\n",
       "      <td>16.0</td>\n",
       "      <td>0.26</td>\n",
       "      <td>0.583379</td>\n",
       "      <td>0.487057</td>\n",
       "      <td>40.037644</td>\n",
       "    </tr>\n",
       "    <tr>\n",
       "      <th>15292</th>\n",
       "      <td>25.0</td>\n",
       "      <td>0.50</td>\n",
       "      <td>0.38</td>\n",
       "      <td>0.38</td>\n",
       "      <td>0.63</td>\n",
       "      <td>86.0</td>\n",
       "      <td>52.0</td>\n",
       "      <td>71.9</td>\n",
       "      <td>62.0</td>\n",
       "      <td>30.0</td>\n",
       "      <td>50.8</td>\n",
       "      <td>16.0</td>\n",
       "      <td>0.26</td>\n",
       "      <td>0.433014</td>\n",
       "      <td>0.422847</td>\n",
       "      <td>33.116091</td>\n",
       "    </tr>\n",
       "    <tr>\n",
       "      <th>15293</th>\n",
       "      <td>37.5</td>\n",
       "      <td>0.75</td>\n",
       "      <td>0.25</td>\n",
       "      <td>0.25</td>\n",
       "      <td>0.25</td>\n",
       "      <td>94.6</td>\n",
       "      <td>57.2</td>\n",
       "      <td>79.0</td>\n",
       "      <td>68.2</td>\n",
       "      <td>33.0</td>\n",
       "      <td>55.9</td>\n",
       "      <td>24.0</td>\n",
       "      <td>0.39</td>\n",
       "      <td>0.360996</td>\n",
       "      <td>0.388860</td>\n",
       "      <td>29.558019</td>\n",
       "    </tr>\n",
       "  </tbody>\n",
       "</table>\n",
       "</div>"
      ],
      "text/plain": [
       "       clonesize  honeybee  bumbles  andrena  osmia  maxofuppertrange  \\\n",
       "id                                                                      \n",
       "15289       25.0      0.25     0.25     0.25   0.25              86.0   \n",
       "15290       12.5      0.25     0.25     0.75   0.63              94.6   \n",
       "15291       12.5      0.25     0.25     0.63   0.63              86.0   \n",
       "15292       25.0      0.50     0.38     0.38   0.63              86.0   \n",
       "15293       37.5      0.75     0.25     0.25   0.25              94.6   \n",
       "\n",
       "       minofuppertrange  averageofuppertrange  maxoflowertrange  \\\n",
       "id                                                                \n",
       "15289              52.0                  71.9              62.0   \n",
       "15290              57.2                  79.0              68.2   \n",
       "15291              52.0                  71.9              62.0   \n",
       "15292              52.0                  71.9              62.0   \n",
       "15293              57.2                  79.0              68.2   \n",
       "\n",
       "       minoflowertrange  averageoflowertrange  rainingdays  \\\n",
       "id                                                           \n",
       "15289              30.0                  50.8         24.0   \n",
       "15290              33.0                  55.9          1.0   \n",
       "15291              30.0                  50.8         16.0   \n",
       "15292              30.0                  50.8         16.0   \n",
       "15293              33.0                  55.9         24.0   \n",
       "\n",
       "       averagerainingdays  fruitset  fruitmass      seeds  \n",
       "id                                                         \n",
       "15289                0.39  0.399367   0.408088  31.394569  \n",
       "15290                0.10  0.488048   0.442866  36.846956  \n",
       "15291                0.26  0.583379   0.487057  40.037644  \n",
       "15292                0.26  0.433014   0.422847  33.116091  \n",
       "15293                0.39  0.360996   0.388860  29.558019  "
      ]
     },
     "execution_count": 150,
     "metadata": {},
     "output_type": "execute_result"
    }
   ],
   "source": [
    "contest_data = pd.read_csv('../data/test.csv', index_col='id')\n",
    "contest_data.columns = contest_data.columns.str.lower()\n",
    "contest_data.head()"
   ]
  },
  {
   "attachments": {},
   "cell_type": "markdown",
   "metadata": {},
   "source": [
    "#### Predict on contest data (My ensembled model)"
   ]
  },
  {
   "cell_type": "code",
   "execution_count": 151,
   "metadata": {},
   "outputs": [
    {
     "data": {
      "text/html": [
       "<div>\n",
       "<style scoped>\n",
       "    .dataframe tbody tr th:only-of-type {\n",
       "        vertical-align: middle;\n",
       "    }\n",
       "\n",
       "    .dataframe tbody tr th {\n",
       "        vertical-align: top;\n",
       "    }\n",
       "\n",
       "    .dataframe thead th {\n",
       "        text-align: right;\n",
       "    }\n",
       "</style>\n",
       "<table border=\"1\" class=\"dataframe\">\n",
       "  <thead>\n",
       "    <tr style=\"text-align: right;\">\n",
       "      <th></th>\n",
       "      <th>yield</th>\n",
       "    </tr>\n",
       "    <tr>\n",
       "      <th>id</th>\n",
       "      <th></th>\n",
       "    </tr>\n",
       "  </thead>\n",
       "  <tbody>\n",
       "    <tr>\n",
       "      <th>15289</th>\n",
       "      <td>4289.590777</td>\n",
       "    </tr>\n",
       "    <tr>\n",
       "      <th>15290</th>\n",
       "      <td>6149.326291</td>\n",
       "    </tr>\n",
       "    <tr>\n",
       "      <th>15291</th>\n",
       "      <td>7236.884670</td>\n",
       "    </tr>\n",
       "    <tr>\n",
       "      <th>15292</th>\n",
       "      <td>4822.505935</td>\n",
       "    </tr>\n",
       "    <tr>\n",
       "      <th>15293</th>\n",
       "      <td>3905.210080</td>\n",
       "    </tr>\n",
       "  </tbody>\n",
       "</table>\n",
       "</div>"
      ],
      "text/plain": [
       "             yield\n",
       "id                \n",
       "15289  4289.590777\n",
       "15290  6149.326291\n",
       "15291  7236.884670\n",
       "15292  4822.505935\n",
       "15293  3905.210080"
      ]
     },
     "execution_count": 151,
     "metadata": {},
     "output_type": "execute_result"
    }
   ],
   "source": [
    "contest_submission_ensemble = pd.DataFrame(vc.predict(contest_data), columns=['yield'])\n",
    "contest_submission_ensemble.index = contest_data.index\n",
    "contest_submission_ensemble.head()"
   ]
  },
  {
   "cell_type": "code",
   "execution_count": 152,
   "metadata": {},
   "outputs": [],
   "source": [
    "\n",
    "pd.DataFrame(contest_submission_ensemble).to_csv('../data/contest_submission_ensemble.csv', index=False)"
   ]
  },
  {
   "attachments": {},
   "cell_type": "markdown",
   "metadata": {},
   "source": [
    "#### Predict on contest data (PyCaret)"
   ]
  },
  {
   "cell_type": "code",
   "execution_count": 153,
   "metadata": {},
   "outputs": [
    {
     "data": {
      "text/html": [],
      "text/plain": [
       "<IPython.core.display.HTML object>"
      ]
     },
     "metadata": {},
     "output_type": "display_data"
    },
    {
     "data": {
      "text/html": [
       "<div>\n",
       "<style scoped>\n",
       "    .dataframe tbody tr th:only-of-type {\n",
       "        vertical-align: middle;\n",
       "    }\n",
       "\n",
       "    .dataframe tbody tr th {\n",
       "        vertical-align: top;\n",
       "    }\n",
       "\n",
       "    .dataframe thead th {\n",
       "        text-align: right;\n",
       "    }\n",
       "</style>\n",
       "<table border=\"1\" class=\"dataframe\">\n",
       "  <thead>\n",
       "    <tr style=\"text-align: right;\">\n",
       "      <th></th>\n",
       "      <th>clonesize</th>\n",
       "      <th>honeybee</th>\n",
       "      <th>bumbles</th>\n",
       "      <th>andrena</th>\n",
       "      <th>osmia</th>\n",
       "      <th>maxofuppertrange</th>\n",
       "      <th>minofuppertrange</th>\n",
       "      <th>averageofuppertrange</th>\n",
       "      <th>maxoflowertrange</th>\n",
       "      <th>minoflowertrange</th>\n",
       "      <th>averageoflowertrange</th>\n",
       "      <th>rainingdays</th>\n",
       "      <th>averagerainingdays</th>\n",
       "      <th>fruitset</th>\n",
       "      <th>fruitmass</th>\n",
       "      <th>seeds</th>\n",
       "      <th>prediction_label</th>\n",
       "    </tr>\n",
       "    <tr>\n",
       "      <th>id</th>\n",
       "      <th></th>\n",
       "      <th></th>\n",
       "      <th></th>\n",
       "      <th></th>\n",
       "      <th></th>\n",
       "      <th></th>\n",
       "      <th></th>\n",
       "      <th></th>\n",
       "      <th></th>\n",
       "      <th></th>\n",
       "      <th></th>\n",
       "      <th></th>\n",
       "      <th></th>\n",
       "      <th></th>\n",
       "      <th></th>\n",
       "      <th></th>\n",
       "      <th></th>\n",
       "    </tr>\n",
       "  </thead>\n",
       "  <tbody>\n",
       "    <tr>\n",
       "      <th>15289</th>\n",
       "      <td>25.0</td>\n",
       "      <td>0.25</td>\n",
       "      <td>0.25</td>\n",
       "      <td>0.25</td>\n",
       "      <td>0.25</td>\n",
       "      <td>86.000000</td>\n",
       "      <td>52.000000</td>\n",
       "      <td>71.900002</td>\n",
       "      <td>62.000000</td>\n",
       "      <td>30.0</td>\n",
       "      <td>50.799999</td>\n",
       "      <td>24.0</td>\n",
       "      <td>0.39</td>\n",
       "      <td>0.399367</td>\n",
       "      <td>0.408088</td>\n",
       "      <td>31.394569</td>\n",
       "      <td>4268.427204</td>\n",
       "    </tr>\n",
       "    <tr>\n",
       "      <th>15290</th>\n",
       "      <td>12.5</td>\n",
       "      <td>0.25</td>\n",
       "      <td>0.25</td>\n",
       "      <td>0.75</td>\n",
       "      <td>0.63</td>\n",
       "      <td>94.599998</td>\n",
       "      <td>57.200001</td>\n",
       "      <td>79.000000</td>\n",
       "      <td>68.199997</td>\n",
       "      <td>33.0</td>\n",
       "      <td>55.900002</td>\n",
       "      <td>1.0</td>\n",
       "      <td>0.10</td>\n",
       "      <td>0.488048</td>\n",
       "      <td>0.442866</td>\n",
       "      <td>36.846958</td>\n",
       "      <td>6104.860839</td>\n",
       "    </tr>\n",
       "    <tr>\n",
       "      <th>15291</th>\n",
       "      <td>12.5</td>\n",
       "      <td>0.25</td>\n",
       "      <td>0.25</td>\n",
       "      <td>0.63</td>\n",
       "      <td>0.63</td>\n",
       "      <td>86.000000</td>\n",
       "      <td>52.000000</td>\n",
       "      <td>71.900002</td>\n",
       "      <td>62.000000</td>\n",
       "      <td>30.0</td>\n",
       "      <td>50.799999</td>\n",
       "      <td>16.0</td>\n",
       "      <td>0.26</td>\n",
       "      <td>0.583379</td>\n",
       "      <td>0.487057</td>\n",
       "      <td>40.037643</td>\n",
       "      <td>7189.988130</td>\n",
       "    </tr>\n",
       "    <tr>\n",
       "      <th>15292</th>\n",
       "      <td>25.0</td>\n",
       "      <td>0.50</td>\n",
       "      <td>0.38</td>\n",
       "      <td>0.38</td>\n",
       "      <td>0.63</td>\n",
       "      <td>86.000000</td>\n",
       "      <td>52.000000</td>\n",
       "      <td>71.900002</td>\n",
       "      <td>62.000000</td>\n",
       "      <td>30.0</td>\n",
       "      <td>50.799999</td>\n",
       "      <td>16.0</td>\n",
       "      <td>0.26</td>\n",
       "      <td>0.433014</td>\n",
       "      <td>0.422847</td>\n",
       "      <td>33.116093</td>\n",
       "      <td>4774.763357</td>\n",
       "    </tr>\n",
       "    <tr>\n",
       "      <th>15293</th>\n",
       "      <td>37.5</td>\n",
       "      <td>0.75</td>\n",
       "      <td>0.25</td>\n",
       "      <td>0.25</td>\n",
       "      <td>0.25</td>\n",
       "      <td>94.599998</td>\n",
       "      <td>57.200001</td>\n",
       "      <td>79.000000</td>\n",
       "      <td>68.199997</td>\n",
       "      <td>33.0</td>\n",
       "      <td>55.900002</td>\n",
       "      <td>24.0</td>\n",
       "      <td>0.39</td>\n",
       "      <td>0.360996</td>\n",
       "      <td>0.388860</td>\n",
       "      <td>29.558020</td>\n",
       "      <td>3790.457785</td>\n",
       "    </tr>\n",
       "  </tbody>\n",
       "</table>\n",
       "</div>"
      ],
      "text/plain": [
       "       clonesize  honeybee  bumbles  andrena  osmia  maxofuppertrange  \\\n",
       "id                                                                      \n",
       "15289       25.0      0.25     0.25     0.25   0.25         86.000000   \n",
       "15290       12.5      0.25     0.25     0.75   0.63         94.599998   \n",
       "15291       12.5      0.25     0.25     0.63   0.63         86.000000   \n",
       "15292       25.0      0.50     0.38     0.38   0.63         86.000000   \n",
       "15293       37.5      0.75     0.25     0.25   0.25         94.599998   \n",
       "\n",
       "       minofuppertrange  averageofuppertrange  maxoflowertrange  \\\n",
       "id                                                                \n",
       "15289         52.000000             71.900002         62.000000   \n",
       "15290         57.200001             79.000000         68.199997   \n",
       "15291         52.000000             71.900002         62.000000   \n",
       "15292         52.000000             71.900002         62.000000   \n",
       "15293         57.200001             79.000000         68.199997   \n",
       "\n",
       "       minoflowertrange  averageoflowertrange  rainingdays  \\\n",
       "id                                                           \n",
       "15289              30.0             50.799999         24.0   \n",
       "15290              33.0             55.900002          1.0   \n",
       "15291              30.0             50.799999         16.0   \n",
       "15292              30.0             50.799999         16.0   \n",
       "15293              33.0             55.900002         24.0   \n",
       "\n",
       "       averagerainingdays  fruitset  fruitmass      seeds  prediction_label  \n",
       "id                                                                           \n",
       "15289                0.39  0.399367   0.408088  31.394569       4268.427204  \n",
       "15290                0.10  0.488048   0.442866  36.846958       6104.860839  \n",
       "15291                0.26  0.583379   0.487057  40.037643       7189.988130  \n",
       "15292                0.26  0.433014   0.422847  33.116093       4774.763357  \n",
       "15293                0.39  0.360996   0.388860  29.558020       3790.457785  "
      ]
     },
     "execution_count": 153,
     "metadata": {},
     "output_type": "execute_result"
    }
   ],
   "source": [
    "predictions_contest = predict_model(best, data = contest_data)\n",
    "predictions_contest.head()"
   ]
  },
  {
   "cell_type": "code",
   "execution_count": 154,
   "metadata": {},
   "outputs": [
    {
     "data": {
      "text/html": [
       "<div>\n",
       "<style scoped>\n",
       "    .dataframe tbody tr th:only-of-type {\n",
       "        vertical-align: middle;\n",
       "    }\n",
       "\n",
       "    .dataframe tbody tr th {\n",
       "        vertical-align: top;\n",
       "    }\n",
       "\n",
       "    .dataframe thead th {\n",
       "        text-align: right;\n",
       "    }\n",
       "</style>\n",
       "<table border=\"1\" class=\"dataframe\">\n",
       "  <thead>\n",
       "    <tr style=\"text-align: right;\">\n",
       "      <th></th>\n",
       "      <th>yield</th>\n",
       "    </tr>\n",
       "    <tr>\n",
       "      <th>id</th>\n",
       "      <th></th>\n",
       "    </tr>\n",
       "  </thead>\n",
       "  <tbody>\n",
       "    <tr>\n",
       "      <th>15289</th>\n",
       "      <td>4268.427204</td>\n",
       "    </tr>\n",
       "    <tr>\n",
       "      <th>15290</th>\n",
       "      <td>6104.860839</td>\n",
       "    </tr>\n",
       "    <tr>\n",
       "      <th>15291</th>\n",
       "      <td>7189.988130</td>\n",
       "    </tr>\n",
       "    <tr>\n",
       "      <th>15292</th>\n",
       "      <td>4774.763357</td>\n",
       "    </tr>\n",
       "    <tr>\n",
       "      <th>15293</th>\n",
       "      <td>3790.457785</td>\n",
       "    </tr>\n",
       "  </tbody>\n",
       "</table>\n",
       "</div>"
      ],
      "text/plain": [
       "             yield\n",
       "id                \n",
       "15289  4268.427204\n",
       "15290  6104.860839\n",
       "15291  7189.988130\n",
       "15292  4774.763357\n",
       "15293  3790.457785"
      ]
     },
     "execution_count": 154,
     "metadata": {},
     "output_type": "execute_result"
    }
   ],
   "source": [
    "contest_submission_pycaret = predictions_contest[['prediction_label']]\n",
    "contest_submission_pycaret.columns = ['yield']\n",
    "contest_submission_pycaret.head()"
   ]
  },
  {
   "cell_type": "code",
   "execution_count": 155,
   "metadata": {},
   "outputs": [],
   "source": [
    "contest_submission_pycaret.to_csv('../data/contest_submission_pycaret.csv')"
   ]
  }
 ],
 "metadata": {
  "kernelspec": {
   "display_name": "base",
   "language": "python",
   "name": "python3"
  },
  "language_info": {
   "codemirror_mode": {
    "name": "ipython",
    "version": 3
   },
   "file_extension": ".py",
   "mimetype": "text/x-python",
   "name": "python",
   "nbconvert_exporter": "python",
   "pygments_lexer": "ipython3",
   "version": "3.9.16"
  },
  "orig_nbformat": 4
 },
 "nbformat": 4,
 "nbformat_minor": 2
}
